{
 "cells": [
  {
   "cell_type": "code",
   "execution_count": 1,
   "id": "b7a1be1b",
   "metadata": {
    "_execution_state": "idle",
    "_uuid": "051d70d956493feee0c6d64651c6a088724dca2a",
    "execution": {
     "iopub.execute_input": "2021-07-04T09:11:57.652581Z",
     "iopub.status.busy": "2021-07-04T09:11:57.650021Z",
     "iopub.status.idle": "2021-07-04T09:11:59.041407Z",
     "shell.execute_reply": "2021-07-04T09:11:59.040104Z"
    },
    "papermill": {
     "duration": 1.409945,
     "end_time": "2021-07-04T09:11:59.041592",
     "exception": false,
     "start_time": "2021-07-04T09:11:57.631647",
     "status": "completed"
    },
    "tags": []
   },
   "outputs": [
    {
     "name": "stderr",
     "output_type": "stream",
     "text": [
      "── \u001b[1mAttaching packages\u001b[22m ─────────────────────────────────────── tidyverse 1.3.1 ──\n",
      "\n",
      "\u001b[32m✔\u001b[39m \u001b[34mggplot2\u001b[39m 3.3.4     \u001b[32m✔\u001b[39m \u001b[34mpurrr  \u001b[39m 0.3.4\n",
      "\u001b[32m✔\u001b[39m \u001b[34mtibble \u001b[39m 3.1.2     \u001b[32m✔\u001b[39m \u001b[34mdplyr  \u001b[39m 1.0.7\n",
      "\u001b[32m✔\u001b[39m \u001b[34mtidyr  \u001b[39m 1.1.3     \u001b[32m✔\u001b[39m \u001b[34mstringr\u001b[39m 1.4.0\n",
      "\u001b[32m✔\u001b[39m \u001b[34mreadr  \u001b[39m 1.4.0     \u001b[32m✔\u001b[39m \u001b[34mforcats\u001b[39m 0.5.1\n",
      "\n",
      "── \u001b[1mConflicts\u001b[22m ────────────────────────────────────────── tidyverse_conflicts() ──\n",
      "\u001b[31m✖\u001b[39m \u001b[34mdplyr\u001b[39m::\u001b[32mfilter()\u001b[39m masks \u001b[34mstats\u001b[39m::filter()\n",
      "\u001b[31m✖\u001b[39m \u001b[34mdplyr\u001b[39m::\u001b[32mlag()\u001b[39m    masks \u001b[34mstats\u001b[39m::lag()\n",
      "\n",
      "\n",
      "Attaching package: ‘lubridate’\n",
      "\n",
      "\n",
      "The following objects are masked from ‘package:base’:\n",
      "\n",
      "    date, intersect, setdiff, union\n",
      "\n",
      "\n"
     ]
    },
    {
     "data": {
      "text/html": [
       "'/kaggle/working'"
      ],
      "text/latex": [
       "'/kaggle/working'"
      ],
      "text/markdown": [
       "'/kaggle/working'"
      ],
      "text/plain": [
       "[1] \"/kaggle/working\""
      ]
     },
     "metadata": {},
     "output_type": "display_data"
    }
   ],
   "source": [
    "# This R environment comes with many helpful analytics packages installed\n",
    "# It is defined by the kaggle/rstats Docker image: https://github.com/kaggle/docker-rstats\n",
    "# For example, here's a helpful package to load\n",
    "\n",
    "library(tidyverse) # metapackage of all tidyverse packages\n",
    "library(lubridate) #helps wrangle data attributes\n",
    "library(ggplot2)\n",
    "getwd()\n",
    "# Input data files are available in the read-only \"../input/\" directory\n",
    "# For example, running this (by clicking run or pressing Shift+Enter) will list all files under the input directory\n",
    "\n",
    "# You can write up to 20GB to the current directory (/kaggle/working/) that gets preserved as output when you create a version using \"Save & Run All\" \n",
    "# You can also write temporary files to /kaggle/temp/, but they won't be saved outside of the current session"
   ]
  },
  {
   "cell_type": "markdown",
   "id": "957181fe",
   "metadata": {
    "papermill": {
     "duration": 0.013744,
     "end_time": "2021-07-04T09:11:59.069799",
     "exception": false,
     "start_time": "2021-07-04T09:11:59.056055",
     "status": "completed"
    },
    "tags": []
   },
   "source": [
    "# Google Data Analytics Captsone\n"
   ]
  },
  {
   "cell_type": "markdown",
   "id": "ffab4a9a",
   "metadata": {
    "papermill": {
     "duration": 0.01414,
     "end_time": "2021-07-04T09:11:59.097603",
     "exception": false,
     "start_time": "2021-07-04T09:11:59.083463",
     "status": "completed"
    },
    "tags": []
   },
   "source": [
    "# Scenario\n",
    "You are a junior data analyst working in the marketing analyst team at Cyclistic, a bike-share company in Chicago. The director of marketing believes the company’s future success depends on maximizing the number of annual memberships. Therefore, your team wants to understand how casual riders and annual members use Cyclistic bikes differently. From these insights, your team will design a new marketing strategy to convert casual riders into annual members. But first, Cyclistic executives must approve your recommendations, so they must be backed up with compelling data insights and professional data visualizations."
   ]
  },
  {
   "cell_type": "markdown",
   "id": "8bccdfe6",
   "metadata": {
    "papermill": {
     "duration": 0.013587,
     "end_time": "2021-07-04T09:11:59.124938",
     "exception": false,
     "start_time": "2021-07-04T09:11:59.111351",
     "status": "completed"
    },
    "tags": []
   },
   "source": [
    "# Business Task: \n",
    "How do annual members and casual riders use Cyclistic bikes differently?"
   ]
  },
  {
   "cell_type": "markdown",
   "id": "2d0b2400",
   "metadata": {
    "papermill": {
     "duration": 0.013633,
     "end_time": "2021-07-04T09:11:59.152105",
     "exception": false,
     "start_time": "2021-07-04T09:11:59.138472",
     "status": "completed"
    },
    "tags": []
   },
   "source": [
    "# Importing Data\n"
   ]
  },
  {
   "cell_type": "code",
   "execution_count": 2,
   "id": "5b5bf4ce",
   "metadata": {
    "execution": {
     "iopub.execute_input": "2021-07-04T09:11:59.210876Z",
     "iopub.status.busy": "2021-07-04T09:11:59.182617Z",
     "iopub.status.idle": "2021-07-04T09:12:27.170781Z",
     "shell.execute_reply": "2021-07-04T09:12:27.169100Z"
    },
    "papermill": {
     "duration": 28.005428,
     "end_time": "2021-07-04T09:12:27.170991",
     "exception": false,
     "start_time": "2021-07-04T09:11:59.165563",
     "status": "completed"
    },
    "tags": []
   },
   "outputs": [
    {
     "name": "stderr",
     "output_type": "stream",
     "text": [
      "\n",
      "\u001b[36m──\u001b[39m \u001b[1m\u001b[1mColumn specification\u001b[1m\u001b[22m \u001b[36m────────────────────────────────────────────────────────\u001b[39m\n",
      "cols(\n",
      "  ride_id = \u001b[31mcol_character()\u001b[39m,\n",
      "  rideable_type = \u001b[31mcol_character()\u001b[39m,\n",
      "  started_at = \u001b[34mcol_datetime(format = \"\")\u001b[39m,\n",
      "  ended_at = \u001b[34mcol_datetime(format = \"\")\u001b[39m,\n",
      "  start_station_name = \u001b[31mcol_character()\u001b[39m,\n",
      "  start_station_id = \u001b[31mcol_character()\u001b[39m,\n",
      "  end_station_name = \u001b[31mcol_character()\u001b[39m,\n",
      "  end_station_id = \u001b[31mcol_character()\u001b[39m,\n",
      "  start_lat = \u001b[32mcol_double()\u001b[39m,\n",
      "  start_lng = \u001b[32mcol_double()\u001b[39m,\n",
      "  end_lat = \u001b[32mcol_double()\u001b[39m,\n",
      "  end_lng = \u001b[32mcol_double()\u001b[39m,\n",
      "  member_casual = \u001b[31mcol_character()\u001b[39m\n",
      ")\n",
      "\n",
      "\n",
      "\n",
      "\u001b[36m──\u001b[39m \u001b[1m\u001b[1mColumn specification\u001b[1m\u001b[22m \u001b[36m────────────────────────────────────────────────────────\u001b[39m\n",
      "cols(\n",
      "  ride_id = \u001b[31mcol_character()\u001b[39m,\n",
      "  rideable_type = \u001b[31mcol_character()\u001b[39m,\n",
      "  started_at = \u001b[34mcol_datetime(format = \"\")\u001b[39m,\n",
      "  ended_at = \u001b[34mcol_datetime(format = \"\")\u001b[39m,\n",
      "  start_station_name = \u001b[31mcol_character()\u001b[39m,\n",
      "  start_station_id = \u001b[31mcol_character()\u001b[39m,\n",
      "  end_station_name = \u001b[31mcol_character()\u001b[39m,\n",
      "  end_station_id = \u001b[31mcol_character()\u001b[39m,\n",
      "  start_lat = \u001b[32mcol_double()\u001b[39m,\n",
      "  start_lng = \u001b[32mcol_double()\u001b[39m,\n",
      "  end_lat = \u001b[32mcol_double()\u001b[39m,\n",
      "  end_lng = \u001b[32mcol_double()\u001b[39m,\n",
      "  member_casual = \u001b[31mcol_character()\u001b[39m\n",
      ")\n",
      "\n",
      "\n",
      "\n",
      "\u001b[36m──\u001b[39m \u001b[1m\u001b[1mColumn specification\u001b[1m\u001b[22m \u001b[36m────────────────────────────────────────────────────────\u001b[39m\n",
      "cols(\n",
      "  ride_id = \u001b[31mcol_character()\u001b[39m,\n",
      "  rideable_type = \u001b[31mcol_character()\u001b[39m,\n",
      "  started_at = \u001b[34mcol_datetime(format = \"\")\u001b[39m,\n",
      "  ended_at = \u001b[34mcol_datetime(format = \"\")\u001b[39m,\n",
      "  start_station_name = \u001b[31mcol_character()\u001b[39m,\n",
      "  start_station_id = \u001b[31mcol_character()\u001b[39m,\n",
      "  end_station_name = \u001b[31mcol_character()\u001b[39m,\n",
      "  end_station_id = \u001b[31mcol_character()\u001b[39m,\n",
      "  start_lat = \u001b[32mcol_double()\u001b[39m,\n",
      "  start_lng = \u001b[32mcol_double()\u001b[39m,\n",
      "  end_lat = \u001b[32mcol_double()\u001b[39m,\n",
      "  end_lng = \u001b[32mcol_double()\u001b[39m,\n",
      "  member_casual = \u001b[31mcol_character()\u001b[39m\n",
      ")\n",
      "\n",
      "\n",
      "\n",
      "\u001b[36m──\u001b[39m \u001b[1m\u001b[1mColumn specification\u001b[1m\u001b[22m \u001b[36m────────────────────────────────────────────────────────\u001b[39m\n",
      "cols(\n",
      "  ride_id = \u001b[31mcol_character()\u001b[39m,\n",
      "  rideable_type = \u001b[31mcol_character()\u001b[39m,\n",
      "  started_at = \u001b[34mcol_datetime(format = \"\")\u001b[39m,\n",
      "  ended_at = \u001b[34mcol_datetime(format = \"\")\u001b[39m,\n",
      "  start_station_name = \u001b[31mcol_character()\u001b[39m,\n",
      "  start_station_id = \u001b[31mcol_character()\u001b[39m,\n",
      "  end_station_name = \u001b[31mcol_character()\u001b[39m,\n",
      "  end_station_id = \u001b[31mcol_character()\u001b[39m,\n",
      "  start_lat = \u001b[32mcol_double()\u001b[39m,\n",
      "  start_lng = \u001b[32mcol_double()\u001b[39m,\n",
      "  end_lat = \u001b[32mcol_double()\u001b[39m,\n",
      "  end_lng = \u001b[32mcol_double()\u001b[39m,\n",
      "  member_casual = \u001b[31mcol_character()\u001b[39m\n",
      ")\n",
      "\n",
      "\n",
      "\n",
      "\u001b[36m──\u001b[39m \u001b[1m\u001b[1mColumn specification\u001b[1m\u001b[22m \u001b[36m────────────────────────────────────────────────────────\u001b[39m\n",
      "cols(\n",
      "  ride_id = \u001b[31mcol_character()\u001b[39m,\n",
      "  rideable_type = \u001b[31mcol_character()\u001b[39m,\n",
      "  started_at = \u001b[34mcol_datetime(format = \"\")\u001b[39m,\n",
      "  ended_at = \u001b[34mcol_datetime(format = \"\")\u001b[39m,\n",
      "  start_station_name = \u001b[31mcol_character()\u001b[39m,\n",
      "  start_station_id = \u001b[32mcol_double()\u001b[39m,\n",
      "  end_station_name = \u001b[31mcol_character()\u001b[39m,\n",
      "  end_station_id = \u001b[32mcol_double()\u001b[39m,\n",
      "  start_lat = \u001b[32mcol_double()\u001b[39m,\n",
      "  start_lng = \u001b[32mcol_double()\u001b[39m,\n",
      "  end_lat = \u001b[32mcol_double()\u001b[39m,\n",
      "  end_lng = \u001b[32mcol_double()\u001b[39m,\n",
      "  member_casual = \u001b[31mcol_character()\u001b[39m\n",
      ")\n",
      "\n",
      "\n",
      "\n",
      "\u001b[36m──\u001b[39m \u001b[1m\u001b[1mColumn specification\u001b[1m\u001b[22m \u001b[36m────────────────────────────────────────────────────────\u001b[39m\n",
      "cols(\n",
      "  ride_id = \u001b[31mcol_character()\u001b[39m,\n",
      "  rideable_type = \u001b[31mcol_character()\u001b[39m,\n",
      "  started_at = \u001b[34mcol_datetime(format = \"\")\u001b[39m,\n",
      "  ended_at = \u001b[34mcol_datetime(format = \"\")\u001b[39m,\n",
      "  start_station_name = \u001b[31mcol_character()\u001b[39m,\n",
      "  start_station_id = \u001b[32mcol_double()\u001b[39m,\n",
      "  end_station_name = \u001b[31mcol_character()\u001b[39m,\n",
      "  end_station_id = \u001b[32mcol_double()\u001b[39m,\n",
      "  start_lat = \u001b[32mcol_double()\u001b[39m,\n",
      "  start_lng = \u001b[32mcol_double()\u001b[39m,\n",
      "  end_lat = \u001b[32mcol_double()\u001b[39m,\n",
      "  end_lng = \u001b[32mcol_double()\u001b[39m,\n",
      "  member_casual = \u001b[31mcol_character()\u001b[39m\n",
      ")\n",
      "\n",
      "\n",
      "\n",
      "\u001b[36m──\u001b[39m \u001b[1m\u001b[1mColumn specification\u001b[1m\u001b[22m \u001b[36m────────────────────────────────────────────────────────\u001b[39m\n",
      "cols(\n",
      "  ride_id = \u001b[31mcol_character()\u001b[39m,\n",
      "  rideable_type = \u001b[31mcol_character()\u001b[39m,\n",
      "  started_at = \u001b[34mcol_datetime(format = \"\")\u001b[39m,\n",
      "  ended_at = \u001b[34mcol_datetime(format = \"\")\u001b[39m,\n",
      "  start_station_name = \u001b[31mcol_character()\u001b[39m,\n",
      "  start_station_id = \u001b[32mcol_double()\u001b[39m,\n",
      "  end_station_name = \u001b[31mcol_character()\u001b[39m,\n",
      "  end_station_id = \u001b[32mcol_double()\u001b[39m,\n",
      "  start_lat = \u001b[32mcol_double()\u001b[39m,\n",
      "  start_lng = \u001b[32mcol_double()\u001b[39m,\n",
      "  end_lat = \u001b[32mcol_double()\u001b[39m,\n",
      "  end_lng = \u001b[32mcol_double()\u001b[39m,\n",
      "  member_casual = \u001b[31mcol_character()\u001b[39m\n",
      ")\n",
      "\n",
      "\n",
      "\n",
      "\u001b[36m──\u001b[39m \u001b[1m\u001b[1mColumn specification\u001b[1m\u001b[22m \u001b[36m────────────────────────────────────────────────────────\u001b[39m\n",
      "cols(\n",
      "  ride_id = \u001b[31mcol_character()\u001b[39m,\n",
      "  rideable_type = \u001b[31mcol_character()\u001b[39m,\n",
      "  started_at = \u001b[34mcol_datetime(format = \"\")\u001b[39m,\n",
      "  ended_at = \u001b[34mcol_datetime(format = \"\")\u001b[39m,\n",
      "  start_station_name = \u001b[31mcol_character()\u001b[39m,\n",
      "  start_station_id = \u001b[32mcol_double()\u001b[39m,\n",
      "  end_station_name = \u001b[31mcol_character()\u001b[39m,\n",
      "  end_station_id = \u001b[32mcol_double()\u001b[39m,\n",
      "  start_lat = \u001b[32mcol_double()\u001b[39m,\n",
      "  start_lng = \u001b[32mcol_double()\u001b[39m,\n",
      "  end_lat = \u001b[32mcol_double()\u001b[39m,\n",
      "  end_lng = \u001b[32mcol_double()\u001b[39m,\n",
      "  member_casual = \u001b[31mcol_character()\u001b[39m\n",
      ")\n",
      "\n",
      "\n",
      "\n",
      "\u001b[36m──\u001b[39m \u001b[1m\u001b[1mColumn specification\u001b[1m\u001b[22m \u001b[36m────────────────────────────────────────────────────────\u001b[39m\n",
      "cols(\n",
      "  ride_id = \u001b[31mcol_character()\u001b[39m,\n",
      "  rideable_type = \u001b[31mcol_character()\u001b[39m,\n",
      "  started_at = \u001b[34mcol_datetime(format = \"\")\u001b[39m,\n",
      "  ended_at = \u001b[34mcol_datetime(format = \"\")\u001b[39m,\n",
      "  start_station_name = \u001b[31mcol_character()\u001b[39m,\n",
      "  start_station_id = \u001b[32mcol_double()\u001b[39m,\n",
      "  end_station_name = \u001b[31mcol_character()\u001b[39m,\n",
      "  end_station_id = \u001b[32mcol_double()\u001b[39m,\n",
      "  start_lat = \u001b[32mcol_double()\u001b[39m,\n",
      "  start_lng = \u001b[32mcol_double()\u001b[39m,\n",
      "  end_lat = \u001b[32mcol_double()\u001b[39m,\n",
      "  end_lng = \u001b[32mcol_double()\u001b[39m,\n",
      "  member_casual = \u001b[31mcol_character()\u001b[39m\n",
      ")\n",
      "\n",
      "\n",
      "\n",
      "\u001b[36m──\u001b[39m \u001b[1m\u001b[1mColumn specification\u001b[1m\u001b[22m \u001b[36m────────────────────────────────────────────────────────\u001b[39m\n",
      "cols(\n",
      "  ride_id = \u001b[31mcol_character()\u001b[39m,\n",
      "  rideable_type = \u001b[31mcol_character()\u001b[39m,\n",
      "  started_at = \u001b[34mcol_datetime(format = \"\")\u001b[39m,\n",
      "  ended_at = \u001b[34mcol_datetime(format = \"\")\u001b[39m,\n",
      "  start_station_name = \u001b[31mcol_character()\u001b[39m,\n",
      "  start_station_id = \u001b[32mcol_double()\u001b[39m,\n",
      "  end_station_name = \u001b[31mcol_character()\u001b[39m,\n",
      "  end_station_id = \u001b[32mcol_double()\u001b[39m,\n",
      "  start_lat = \u001b[32mcol_double()\u001b[39m,\n",
      "  start_lng = \u001b[32mcol_double()\u001b[39m,\n",
      "  end_lat = \u001b[32mcol_double()\u001b[39m,\n",
      "  end_lng = \u001b[32mcol_double()\u001b[39m,\n",
      "  member_casual = \u001b[31mcol_character()\u001b[39m\n",
      ")\n",
      "\n",
      "\n",
      "\n",
      "\u001b[36m──\u001b[39m \u001b[1m\u001b[1mColumn specification\u001b[1m\u001b[22m \u001b[36m────────────────────────────────────────────────────────\u001b[39m\n",
      "cols(\n",
      "  ride_id = \u001b[31mcol_character()\u001b[39m,\n",
      "  rideable_type = \u001b[31mcol_character()\u001b[39m,\n",
      "  started_at = \u001b[34mcol_datetime(format = \"\")\u001b[39m,\n",
      "  ended_at = \u001b[34mcol_datetime(format = \"\")\u001b[39m,\n",
      "  start_station_name = \u001b[31mcol_character()\u001b[39m,\n",
      "  start_station_id = \u001b[32mcol_double()\u001b[39m,\n",
      "  end_station_name = \u001b[31mcol_character()\u001b[39m,\n",
      "  end_station_id = \u001b[32mcol_double()\u001b[39m,\n",
      "  start_lat = \u001b[32mcol_double()\u001b[39m,\n",
      "  start_lng = \u001b[32mcol_double()\u001b[39m,\n",
      "  end_lat = \u001b[32mcol_double()\u001b[39m,\n",
      "  end_lng = \u001b[32mcol_double()\u001b[39m,\n",
      "  member_casual = \u001b[31mcol_character()\u001b[39m\n",
      ")\n",
      "\n",
      "\n",
      "\n",
      "\u001b[36m──\u001b[39m \u001b[1m\u001b[1mColumn specification\u001b[1m\u001b[22m \u001b[36m────────────────────────────────────────────────────────\u001b[39m\n",
      "cols(\n",
      "  ride_id = \u001b[31mcol_character()\u001b[39m,\n",
      "  rideable_type = \u001b[31mcol_character()\u001b[39m,\n",
      "  started_at = \u001b[34mcol_datetime(format = \"\")\u001b[39m,\n",
      "  ended_at = \u001b[34mcol_datetime(format = \"\")\u001b[39m,\n",
      "  start_station_name = \u001b[31mcol_character()\u001b[39m,\n",
      "  start_station_id = \u001b[32mcol_double()\u001b[39m,\n",
      "  end_station_name = \u001b[31mcol_character()\u001b[39m,\n",
      "  end_station_id = \u001b[32mcol_double()\u001b[39m,\n",
      "  start_lat = \u001b[32mcol_double()\u001b[39m,\n",
      "  start_lng = \u001b[32mcol_double()\u001b[39m,\n",
      "  end_lat = \u001b[32mcol_double()\u001b[39m,\n",
      "  end_lng = \u001b[32mcol_double()\u001b[39m,\n",
      "  member_casual = \u001b[31mcol_character()\u001b[39m\n",
      ")\n",
      "\n",
      "\n"
     ]
    }
   ],
   "source": [
    "###Step 2: Importing Data\n",
    "###read_csv() imports data from .csv files\n",
    "Mar_2021 <- read_csv(\"../input/divvy-cyclistic-bikeshare/202103-divvy-tripdata.csv\")\n",
    "Feb_2021 <- read_csv(\"../input/divvy-cyclistic-bikeshare/202102-divvy-tripdata.csv\")\n",
    "Jan_2021 <- read_csv(\"../input/divvy-cyclistic-bikeshare/202101-divvy-tripdata.csv\")\n",
    "Dec_2020 <- read_csv(\"../input/divvy-cyclistic-bikeshare/202012-divvy-tripdata.csv\")\n",
    "Nov_2020 <- read_csv(\"../input/divvy-cyclistic-bikeshare/202011-divvy-tripdata.csv\")\n",
    "Oct_2020 <- read_csv(\"../input/divvy-cyclistic-bikeshare/202010-divvy-tripdata.csv\")\n",
    "Sep_2020 <- read_csv(\"../input/divvy-cyclistic-bikeshare/202009-divvy-tripdata.csv\")\n",
    "Aug_2020 <- read_csv(\"../input/divvy-cyclistic-bikeshare/202008-divvy-tripdata.csv\")\n",
    "Jul_2020 <- read_csv(\"../input/divvy-cyclistic-bikeshare/202007-divvy-tripdata.csv\")\n",
    "Jun_2020 <- read_csv(\"../input/divvy-cyclistic-bikeshare/202006-divvy-tripdata.csv\")\n",
    "May_2020 <- read_csv(\"../input/divvy-cyclistic-bikeshare/202005-divvy-tripdata.csv\")\n",
    "Apr_2020 <- read_csv(\"../input/divvy-cyclistic-bikeshare/202004-divvy-tripdata.csv\")"
   ]
  },
  {
   "cell_type": "markdown",
   "id": "cd24928b",
   "metadata": {
    "papermill": {
     "duration": 0.01636,
     "end_time": "2021-07-04T09:12:27.205667",
     "exception": false,
     "start_time": "2021-07-04T09:12:27.189307",
     "status": "completed"
    },
    "tags": []
   },
   "source": [
    "# Cleaning and Organizing\n"
   ]
  },
  {
   "cell_type": "code",
   "execution_count": 3,
   "id": "93c35394",
   "metadata": {
    "execution": {
     "iopub.execute_input": "2021-07-04T09:12:27.243590Z",
     "iopub.status.busy": "2021-07-04T09:12:27.242196Z",
     "iopub.status.idle": "2021-07-04T09:12:27.317218Z",
     "shell.execute_reply": "2021-07-04T09:12:27.315808Z"
    },
    "papermill": {
     "duration": 0.095379,
     "end_time": "2021-07-04T09:12:27.317346",
     "exception": false,
     "start_time": "2021-07-04T09:12:27.221967",
     "status": "completed"
    },
    "tags": []
   },
   "outputs": [
    {
     "data": {
      "text/html": [
       "<style>\n",
       ".list-inline {list-style: none; margin:0; padding: 0}\n",
       ".list-inline>li {display: inline-block}\n",
       ".list-inline>li:not(:last-child)::after {content: \"\\00b7\"; padding: 0 .5ex}\n",
       "</style>\n",
       "<ol class=list-inline><li>'ride_id'</li><li>'rideable_type'</li><li>'started_at'</li><li>'ended_at'</li><li>'start_station_name'</li><li>'start_station_id'</li><li>'end_station_name'</li><li>'end_station_id'</li><li>'start_lat'</li><li>'start_lng'</li><li>'end_lat'</li><li>'end_lng'</li><li>'member_casual'</li></ol>\n"
      ],
      "text/latex": [
       "\\begin{enumerate*}\n",
       "\\item 'ride\\_id'\n",
       "\\item 'rideable\\_type'\n",
       "\\item 'started\\_at'\n",
       "\\item 'ended\\_at'\n",
       "\\item 'start\\_station\\_name'\n",
       "\\item 'start\\_station\\_id'\n",
       "\\item 'end\\_station\\_name'\n",
       "\\item 'end\\_station\\_id'\n",
       "\\item 'start\\_lat'\n",
       "\\item 'start\\_lng'\n",
       "\\item 'end\\_lat'\n",
       "\\item 'end\\_lng'\n",
       "\\item 'member\\_casual'\n",
       "\\end{enumerate*}\n"
      ],
      "text/markdown": [
       "1. 'ride_id'\n",
       "2. 'rideable_type'\n",
       "3. 'started_at'\n",
       "4. 'ended_at'\n",
       "5. 'start_station_name'\n",
       "6. 'start_station_id'\n",
       "7. 'end_station_name'\n",
       "8. 'end_station_id'\n",
       "9. 'start_lat'\n",
       "10. 'start_lng'\n",
       "11. 'end_lat'\n",
       "12. 'end_lng'\n",
       "13. 'member_casual'\n",
       "\n",
       "\n"
      ],
      "text/plain": [
       " [1] \"ride_id\"            \"rideable_type\"      \"started_at\"        \n",
       " [4] \"ended_at\"           \"start_station_name\" \"start_station_id\"  \n",
       " [7] \"end_station_name\"   \"end_station_id\"     \"start_lat\"         \n",
       "[10] \"start_lng\"          \"end_lat\"            \"end_lng\"           \n",
       "[13] \"member_casual\"     "
      ]
     },
     "metadata": {},
     "output_type": "display_data"
    },
    {
     "data": {
      "text/html": [
       "<style>\n",
       ".list-inline {list-style: none; margin:0; padding: 0}\n",
       ".list-inline>li {display: inline-block}\n",
       ".list-inline>li:not(:last-child)::after {content: \"\\00b7\"; padding: 0 .5ex}\n",
       "</style>\n",
       "<ol class=list-inline><li>'ride_id'</li><li>'rideable_type'</li><li>'started_at'</li><li>'ended_at'</li><li>'start_station_name'</li><li>'start_station_id'</li><li>'end_station_name'</li><li>'end_station_id'</li><li>'start_lat'</li><li>'start_lng'</li><li>'end_lat'</li><li>'end_lng'</li><li>'member_casual'</li></ol>\n"
      ],
      "text/latex": [
       "\\begin{enumerate*}\n",
       "\\item 'ride\\_id'\n",
       "\\item 'rideable\\_type'\n",
       "\\item 'started\\_at'\n",
       "\\item 'ended\\_at'\n",
       "\\item 'start\\_station\\_name'\n",
       "\\item 'start\\_station\\_id'\n",
       "\\item 'end\\_station\\_name'\n",
       "\\item 'end\\_station\\_id'\n",
       "\\item 'start\\_lat'\n",
       "\\item 'start\\_lng'\n",
       "\\item 'end\\_lat'\n",
       "\\item 'end\\_lng'\n",
       "\\item 'member\\_casual'\n",
       "\\end{enumerate*}\n"
      ],
      "text/markdown": [
       "1. 'ride_id'\n",
       "2. 'rideable_type'\n",
       "3. 'started_at'\n",
       "4. 'ended_at'\n",
       "5. 'start_station_name'\n",
       "6. 'start_station_id'\n",
       "7. 'end_station_name'\n",
       "8. 'end_station_id'\n",
       "9. 'start_lat'\n",
       "10. 'start_lng'\n",
       "11. 'end_lat'\n",
       "12. 'end_lng'\n",
       "13. 'member_casual'\n",
       "\n",
       "\n"
      ],
      "text/plain": [
       " [1] \"ride_id\"            \"rideable_type\"      \"started_at\"        \n",
       " [4] \"ended_at\"           \"start_station_name\" \"start_station_id\"  \n",
       " [7] \"end_station_name\"   \"end_station_id\"     \"start_lat\"         \n",
       "[10] \"start_lng\"          \"end_lat\"            \"end_lng\"           \n",
       "[13] \"member_casual\"     "
      ]
     },
     "metadata": {},
     "output_type": "display_data"
    },
    {
     "data": {
      "text/html": [
       "<style>\n",
       ".list-inline {list-style: none; margin:0; padding: 0}\n",
       ".list-inline>li {display: inline-block}\n",
       ".list-inline>li:not(:last-child)::after {content: \"\\00b7\"; padding: 0 .5ex}\n",
       "</style>\n",
       "<ol class=list-inline><li>'ride_id'</li><li>'rideable_type'</li><li>'started_at'</li><li>'ended_at'</li><li>'start_station_name'</li><li>'start_station_id'</li><li>'end_station_name'</li><li>'end_station_id'</li><li>'start_lat'</li><li>'start_lng'</li><li>'end_lat'</li><li>'end_lng'</li><li>'member_casual'</li></ol>\n"
      ],
      "text/latex": [
       "\\begin{enumerate*}\n",
       "\\item 'ride\\_id'\n",
       "\\item 'rideable\\_type'\n",
       "\\item 'started\\_at'\n",
       "\\item 'ended\\_at'\n",
       "\\item 'start\\_station\\_name'\n",
       "\\item 'start\\_station\\_id'\n",
       "\\item 'end\\_station\\_name'\n",
       "\\item 'end\\_station\\_id'\n",
       "\\item 'start\\_lat'\n",
       "\\item 'start\\_lng'\n",
       "\\item 'end\\_lat'\n",
       "\\item 'end\\_lng'\n",
       "\\item 'member\\_casual'\n",
       "\\end{enumerate*}\n"
      ],
      "text/markdown": [
       "1. 'ride_id'\n",
       "2. 'rideable_type'\n",
       "3. 'started_at'\n",
       "4. 'ended_at'\n",
       "5. 'start_station_name'\n",
       "6. 'start_station_id'\n",
       "7. 'end_station_name'\n",
       "8. 'end_station_id'\n",
       "9. 'start_lat'\n",
       "10. 'start_lng'\n",
       "11. 'end_lat'\n",
       "12. 'end_lng'\n",
       "13. 'member_casual'\n",
       "\n",
       "\n"
      ],
      "text/plain": [
       " [1] \"ride_id\"            \"rideable_type\"      \"started_at\"        \n",
       " [4] \"ended_at\"           \"start_station_name\" \"start_station_id\"  \n",
       " [7] \"end_station_name\"   \"end_station_id\"     \"start_lat\"         \n",
       "[10] \"start_lng\"          \"end_lat\"            \"end_lng\"           \n",
       "[13] \"member_casual\"     "
      ]
     },
     "metadata": {},
     "output_type": "display_data"
    },
    {
     "data": {
      "text/html": [
       "<style>\n",
       ".list-inline {list-style: none; margin:0; padding: 0}\n",
       ".list-inline>li {display: inline-block}\n",
       ".list-inline>li:not(:last-child)::after {content: \"\\00b7\"; padding: 0 .5ex}\n",
       "</style>\n",
       "<ol class=list-inline><li>'ride_id'</li><li>'rideable_type'</li><li>'started_at'</li><li>'ended_at'</li><li>'start_station_name'</li><li>'start_station_id'</li><li>'end_station_name'</li><li>'end_station_id'</li><li>'start_lat'</li><li>'start_lng'</li><li>'end_lat'</li><li>'end_lng'</li><li>'member_casual'</li></ol>\n"
      ],
      "text/latex": [
       "\\begin{enumerate*}\n",
       "\\item 'ride\\_id'\n",
       "\\item 'rideable\\_type'\n",
       "\\item 'started\\_at'\n",
       "\\item 'ended\\_at'\n",
       "\\item 'start\\_station\\_name'\n",
       "\\item 'start\\_station\\_id'\n",
       "\\item 'end\\_station\\_name'\n",
       "\\item 'end\\_station\\_id'\n",
       "\\item 'start\\_lat'\n",
       "\\item 'start\\_lng'\n",
       "\\item 'end\\_lat'\n",
       "\\item 'end\\_lng'\n",
       "\\item 'member\\_casual'\n",
       "\\end{enumerate*}\n"
      ],
      "text/markdown": [
       "1. 'ride_id'\n",
       "2. 'rideable_type'\n",
       "3. 'started_at'\n",
       "4. 'ended_at'\n",
       "5. 'start_station_name'\n",
       "6. 'start_station_id'\n",
       "7. 'end_station_name'\n",
       "8. 'end_station_id'\n",
       "9. 'start_lat'\n",
       "10. 'start_lng'\n",
       "11. 'end_lat'\n",
       "12. 'end_lng'\n",
       "13. 'member_casual'\n",
       "\n",
       "\n"
      ],
      "text/plain": [
       " [1] \"ride_id\"            \"rideable_type\"      \"started_at\"        \n",
       " [4] \"ended_at\"           \"start_station_name\" \"start_station_id\"  \n",
       " [7] \"end_station_name\"   \"end_station_id\"     \"start_lat\"         \n",
       "[10] \"start_lng\"          \"end_lat\"            \"end_lng\"           \n",
       "[13] \"member_casual\"     "
      ]
     },
     "metadata": {},
     "output_type": "display_data"
    },
    {
     "data": {
      "text/html": [
       "<style>\n",
       ".list-inline {list-style: none; margin:0; padding: 0}\n",
       ".list-inline>li {display: inline-block}\n",
       ".list-inline>li:not(:last-child)::after {content: \"\\00b7\"; padding: 0 .5ex}\n",
       "</style>\n",
       "<ol class=list-inline><li>'ride_id'</li><li>'rideable_type'</li><li>'started_at'</li><li>'ended_at'</li><li>'start_station_name'</li><li>'start_station_id'</li><li>'end_station_name'</li><li>'end_station_id'</li><li>'start_lat'</li><li>'start_lng'</li><li>'end_lat'</li><li>'end_lng'</li><li>'member_casual'</li></ol>\n"
      ],
      "text/latex": [
       "\\begin{enumerate*}\n",
       "\\item 'ride\\_id'\n",
       "\\item 'rideable\\_type'\n",
       "\\item 'started\\_at'\n",
       "\\item 'ended\\_at'\n",
       "\\item 'start\\_station\\_name'\n",
       "\\item 'start\\_station\\_id'\n",
       "\\item 'end\\_station\\_name'\n",
       "\\item 'end\\_station\\_id'\n",
       "\\item 'start\\_lat'\n",
       "\\item 'start\\_lng'\n",
       "\\item 'end\\_lat'\n",
       "\\item 'end\\_lng'\n",
       "\\item 'member\\_casual'\n",
       "\\end{enumerate*}\n"
      ],
      "text/markdown": [
       "1. 'ride_id'\n",
       "2. 'rideable_type'\n",
       "3. 'started_at'\n",
       "4. 'ended_at'\n",
       "5. 'start_station_name'\n",
       "6. 'start_station_id'\n",
       "7. 'end_station_name'\n",
       "8. 'end_station_id'\n",
       "9. 'start_lat'\n",
       "10. 'start_lng'\n",
       "11. 'end_lat'\n",
       "12. 'end_lng'\n",
       "13. 'member_casual'\n",
       "\n",
       "\n"
      ],
      "text/plain": [
       " [1] \"ride_id\"            \"rideable_type\"      \"started_at\"        \n",
       " [4] \"ended_at\"           \"start_station_name\" \"start_station_id\"  \n",
       " [7] \"end_station_name\"   \"end_station_id\"     \"start_lat\"         \n",
       "[10] \"start_lng\"          \"end_lat\"            \"end_lng\"           \n",
       "[13] \"member_casual\"     "
      ]
     },
     "metadata": {},
     "output_type": "display_data"
    },
    {
     "data": {
      "text/html": [
       "<style>\n",
       ".list-inline {list-style: none; margin:0; padding: 0}\n",
       ".list-inline>li {display: inline-block}\n",
       ".list-inline>li:not(:last-child)::after {content: \"\\00b7\"; padding: 0 .5ex}\n",
       "</style>\n",
       "<ol class=list-inline><li>'ride_id'</li><li>'rideable_type'</li><li>'started_at'</li><li>'ended_at'</li><li>'start_station_name'</li><li>'start_station_id'</li><li>'end_station_name'</li><li>'end_station_id'</li><li>'start_lat'</li><li>'start_lng'</li><li>'end_lat'</li><li>'end_lng'</li><li>'member_casual'</li></ol>\n"
      ],
      "text/latex": [
       "\\begin{enumerate*}\n",
       "\\item 'ride\\_id'\n",
       "\\item 'rideable\\_type'\n",
       "\\item 'started\\_at'\n",
       "\\item 'ended\\_at'\n",
       "\\item 'start\\_station\\_name'\n",
       "\\item 'start\\_station\\_id'\n",
       "\\item 'end\\_station\\_name'\n",
       "\\item 'end\\_station\\_id'\n",
       "\\item 'start\\_lat'\n",
       "\\item 'start\\_lng'\n",
       "\\item 'end\\_lat'\n",
       "\\item 'end\\_lng'\n",
       "\\item 'member\\_casual'\n",
       "\\end{enumerate*}\n"
      ],
      "text/markdown": [
       "1. 'ride_id'\n",
       "2. 'rideable_type'\n",
       "3. 'started_at'\n",
       "4. 'ended_at'\n",
       "5. 'start_station_name'\n",
       "6. 'start_station_id'\n",
       "7. 'end_station_name'\n",
       "8. 'end_station_id'\n",
       "9. 'start_lat'\n",
       "10. 'start_lng'\n",
       "11. 'end_lat'\n",
       "12. 'end_lng'\n",
       "13. 'member_casual'\n",
       "\n",
       "\n"
      ],
      "text/plain": [
       " [1] \"ride_id\"            \"rideable_type\"      \"started_at\"        \n",
       " [4] \"ended_at\"           \"start_station_name\" \"start_station_id\"  \n",
       " [7] \"end_station_name\"   \"end_station_id\"     \"start_lat\"         \n",
       "[10] \"start_lng\"          \"end_lat\"            \"end_lng\"           \n",
       "[13] \"member_casual\"     "
      ]
     },
     "metadata": {},
     "output_type": "display_data"
    },
    {
     "data": {
      "text/html": [
       "<style>\n",
       ".list-inline {list-style: none; margin:0; padding: 0}\n",
       ".list-inline>li {display: inline-block}\n",
       ".list-inline>li:not(:last-child)::after {content: \"\\00b7\"; padding: 0 .5ex}\n",
       "</style>\n",
       "<ol class=list-inline><li>'ride_id'</li><li>'rideable_type'</li><li>'started_at'</li><li>'ended_at'</li><li>'start_station_name'</li><li>'start_station_id'</li><li>'end_station_name'</li><li>'end_station_id'</li><li>'start_lat'</li><li>'start_lng'</li><li>'end_lat'</li><li>'end_lng'</li><li>'member_casual'</li></ol>\n"
      ],
      "text/latex": [
       "\\begin{enumerate*}\n",
       "\\item 'ride\\_id'\n",
       "\\item 'rideable\\_type'\n",
       "\\item 'started\\_at'\n",
       "\\item 'ended\\_at'\n",
       "\\item 'start\\_station\\_name'\n",
       "\\item 'start\\_station\\_id'\n",
       "\\item 'end\\_station\\_name'\n",
       "\\item 'end\\_station\\_id'\n",
       "\\item 'start\\_lat'\n",
       "\\item 'start\\_lng'\n",
       "\\item 'end\\_lat'\n",
       "\\item 'end\\_lng'\n",
       "\\item 'member\\_casual'\n",
       "\\end{enumerate*}\n"
      ],
      "text/markdown": [
       "1. 'ride_id'\n",
       "2. 'rideable_type'\n",
       "3. 'started_at'\n",
       "4. 'ended_at'\n",
       "5. 'start_station_name'\n",
       "6. 'start_station_id'\n",
       "7. 'end_station_name'\n",
       "8. 'end_station_id'\n",
       "9. 'start_lat'\n",
       "10. 'start_lng'\n",
       "11. 'end_lat'\n",
       "12. 'end_lng'\n",
       "13. 'member_casual'\n",
       "\n",
       "\n"
      ],
      "text/plain": [
       " [1] \"ride_id\"            \"rideable_type\"      \"started_at\"        \n",
       " [4] \"ended_at\"           \"start_station_name\" \"start_station_id\"  \n",
       " [7] \"end_station_name\"   \"end_station_id\"     \"start_lat\"         \n",
       "[10] \"start_lng\"          \"end_lat\"            \"end_lng\"           \n",
       "[13] \"member_casual\"     "
      ]
     },
     "metadata": {},
     "output_type": "display_data"
    },
    {
     "data": {
      "text/html": [
       "<style>\n",
       ".list-inline {list-style: none; margin:0; padding: 0}\n",
       ".list-inline>li {display: inline-block}\n",
       ".list-inline>li:not(:last-child)::after {content: \"\\00b7\"; padding: 0 .5ex}\n",
       "</style>\n",
       "<ol class=list-inline><li>'ride_id'</li><li>'rideable_type'</li><li>'started_at'</li><li>'ended_at'</li><li>'start_station_name'</li><li>'start_station_id'</li><li>'end_station_name'</li><li>'end_station_id'</li><li>'start_lat'</li><li>'start_lng'</li><li>'end_lat'</li><li>'end_lng'</li><li>'member_casual'</li></ol>\n"
      ],
      "text/latex": [
       "\\begin{enumerate*}\n",
       "\\item 'ride\\_id'\n",
       "\\item 'rideable\\_type'\n",
       "\\item 'started\\_at'\n",
       "\\item 'ended\\_at'\n",
       "\\item 'start\\_station\\_name'\n",
       "\\item 'start\\_station\\_id'\n",
       "\\item 'end\\_station\\_name'\n",
       "\\item 'end\\_station\\_id'\n",
       "\\item 'start\\_lat'\n",
       "\\item 'start\\_lng'\n",
       "\\item 'end\\_lat'\n",
       "\\item 'end\\_lng'\n",
       "\\item 'member\\_casual'\n",
       "\\end{enumerate*}\n"
      ],
      "text/markdown": [
       "1. 'ride_id'\n",
       "2. 'rideable_type'\n",
       "3. 'started_at'\n",
       "4. 'ended_at'\n",
       "5. 'start_station_name'\n",
       "6. 'start_station_id'\n",
       "7. 'end_station_name'\n",
       "8. 'end_station_id'\n",
       "9. 'start_lat'\n",
       "10. 'start_lng'\n",
       "11. 'end_lat'\n",
       "12. 'end_lng'\n",
       "13. 'member_casual'\n",
       "\n",
       "\n"
      ],
      "text/plain": [
       " [1] \"ride_id\"            \"rideable_type\"      \"started_at\"        \n",
       " [4] \"ended_at\"           \"start_station_name\" \"start_station_id\"  \n",
       " [7] \"end_station_name\"   \"end_station_id\"     \"start_lat\"         \n",
       "[10] \"start_lng\"          \"end_lat\"            \"end_lng\"           \n",
       "[13] \"member_casual\"     "
      ]
     },
     "metadata": {},
     "output_type": "display_data"
    },
    {
     "data": {
      "text/html": [
       "<style>\n",
       ".list-inline {list-style: none; margin:0; padding: 0}\n",
       ".list-inline>li {display: inline-block}\n",
       ".list-inline>li:not(:last-child)::after {content: \"\\00b7\"; padding: 0 .5ex}\n",
       "</style>\n",
       "<ol class=list-inline><li>'ride_id'</li><li>'rideable_type'</li><li>'started_at'</li><li>'ended_at'</li><li>'start_station_name'</li><li>'start_station_id'</li><li>'end_station_name'</li><li>'end_station_id'</li><li>'start_lat'</li><li>'start_lng'</li><li>'end_lat'</li><li>'end_lng'</li><li>'member_casual'</li></ol>\n"
      ],
      "text/latex": [
       "\\begin{enumerate*}\n",
       "\\item 'ride\\_id'\n",
       "\\item 'rideable\\_type'\n",
       "\\item 'started\\_at'\n",
       "\\item 'ended\\_at'\n",
       "\\item 'start\\_station\\_name'\n",
       "\\item 'start\\_station\\_id'\n",
       "\\item 'end\\_station\\_name'\n",
       "\\item 'end\\_station\\_id'\n",
       "\\item 'start\\_lat'\n",
       "\\item 'start\\_lng'\n",
       "\\item 'end\\_lat'\n",
       "\\item 'end\\_lng'\n",
       "\\item 'member\\_casual'\n",
       "\\end{enumerate*}\n"
      ],
      "text/markdown": [
       "1. 'ride_id'\n",
       "2. 'rideable_type'\n",
       "3. 'started_at'\n",
       "4. 'ended_at'\n",
       "5. 'start_station_name'\n",
       "6. 'start_station_id'\n",
       "7. 'end_station_name'\n",
       "8. 'end_station_id'\n",
       "9. 'start_lat'\n",
       "10. 'start_lng'\n",
       "11. 'end_lat'\n",
       "12. 'end_lng'\n",
       "13. 'member_casual'\n",
       "\n",
       "\n"
      ],
      "text/plain": [
       " [1] \"ride_id\"            \"rideable_type\"      \"started_at\"        \n",
       " [4] \"ended_at\"           \"start_station_name\" \"start_station_id\"  \n",
       " [7] \"end_station_name\"   \"end_station_id\"     \"start_lat\"         \n",
       "[10] \"start_lng\"          \"end_lat\"            \"end_lng\"           \n",
       "[13] \"member_casual\"     "
      ]
     },
     "metadata": {},
     "output_type": "display_data"
    },
    {
     "data": {
      "text/html": [
       "<style>\n",
       ".list-inline {list-style: none; margin:0; padding: 0}\n",
       ".list-inline>li {display: inline-block}\n",
       ".list-inline>li:not(:last-child)::after {content: \"\\00b7\"; padding: 0 .5ex}\n",
       "</style>\n",
       "<ol class=list-inline><li>'ride_id'</li><li>'rideable_type'</li><li>'started_at'</li><li>'ended_at'</li><li>'start_station_name'</li><li>'start_station_id'</li><li>'end_station_name'</li><li>'end_station_id'</li><li>'start_lat'</li><li>'start_lng'</li><li>'end_lat'</li><li>'end_lng'</li><li>'member_casual'</li></ol>\n"
      ],
      "text/latex": [
       "\\begin{enumerate*}\n",
       "\\item 'ride\\_id'\n",
       "\\item 'rideable\\_type'\n",
       "\\item 'started\\_at'\n",
       "\\item 'ended\\_at'\n",
       "\\item 'start\\_station\\_name'\n",
       "\\item 'start\\_station\\_id'\n",
       "\\item 'end\\_station\\_name'\n",
       "\\item 'end\\_station\\_id'\n",
       "\\item 'start\\_lat'\n",
       "\\item 'start\\_lng'\n",
       "\\item 'end\\_lat'\n",
       "\\item 'end\\_lng'\n",
       "\\item 'member\\_casual'\n",
       "\\end{enumerate*}\n"
      ],
      "text/markdown": [
       "1. 'ride_id'\n",
       "2. 'rideable_type'\n",
       "3. 'started_at'\n",
       "4. 'ended_at'\n",
       "5. 'start_station_name'\n",
       "6. 'start_station_id'\n",
       "7. 'end_station_name'\n",
       "8. 'end_station_id'\n",
       "9. 'start_lat'\n",
       "10. 'start_lng'\n",
       "11. 'end_lat'\n",
       "12. 'end_lng'\n",
       "13. 'member_casual'\n",
       "\n",
       "\n"
      ],
      "text/plain": [
       " [1] \"ride_id\"            \"rideable_type\"      \"started_at\"        \n",
       " [4] \"ended_at\"           \"start_station_name\" \"start_station_id\"  \n",
       " [7] \"end_station_name\"   \"end_station_id\"     \"start_lat\"         \n",
       "[10] \"start_lng\"          \"end_lat\"            \"end_lng\"           \n",
       "[13] \"member_casual\"     "
      ]
     },
     "metadata": {},
     "output_type": "display_data"
    },
    {
     "data": {
      "text/html": [
       "<style>\n",
       ".list-inline {list-style: none; margin:0; padding: 0}\n",
       ".list-inline>li {display: inline-block}\n",
       ".list-inline>li:not(:last-child)::after {content: \"\\00b7\"; padding: 0 .5ex}\n",
       "</style>\n",
       "<ol class=list-inline><li>'ride_id'</li><li>'rideable_type'</li><li>'started_at'</li><li>'ended_at'</li><li>'start_station_name'</li><li>'start_station_id'</li><li>'end_station_name'</li><li>'end_station_id'</li><li>'start_lat'</li><li>'start_lng'</li><li>'end_lat'</li><li>'end_lng'</li><li>'member_casual'</li></ol>\n"
      ],
      "text/latex": [
       "\\begin{enumerate*}\n",
       "\\item 'ride\\_id'\n",
       "\\item 'rideable\\_type'\n",
       "\\item 'started\\_at'\n",
       "\\item 'ended\\_at'\n",
       "\\item 'start\\_station\\_name'\n",
       "\\item 'start\\_station\\_id'\n",
       "\\item 'end\\_station\\_name'\n",
       "\\item 'end\\_station\\_id'\n",
       "\\item 'start\\_lat'\n",
       "\\item 'start\\_lng'\n",
       "\\item 'end\\_lat'\n",
       "\\item 'end\\_lng'\n",
       "\\item 'member\\_casual'\n",
       "\\end{enumerate*}\n"
      ],
      "text/markdown": [
       "1. 'ride_id'\n",
       "2. 'rideable_type'\n",
       "3. 'started_at'\n",
       "4. 'ended_at'\n",
       "5. 'start_station_name'\n",
       "6. 'start_station_id'\n",
       "7. 'end_station_name'\n",
       "8. 'end_station_id'\n",
       "9. 'start_lat'\n",
       "10. 'start_lng'\n",
       "11. 'end_lat'\n",
       "12. 'end_lng'\n",
       "13. 'member_casual'\n",
       "\n",
       "\n"
      ],
      "text/plain": [
       " [1] \"ride_id\"            \"rideable_type\"      \"started_at\"        \n",
       " [4] \"ended_at\"           \"start_station_name\" \"start_station_id\"  \n",
       " [7] \"end_station_name\"   \"end_station_id\"     \"start_lat\"         \n",
       "[10] \"start_lng\"          \"end_lat\"            \"end_lng\"           \n",
       "[13] \"member_casual\"     "
      ]
     },
     "metadata": {},
     "output_type": "display_data"
    },
    {
     "data": {
      "text/html": [
       "<style>\n",
       ".list-inline {list-style: none; margin:0; padding: 0}\n",
       ".list-inline>li {display: inline-block}\n",
       ".list-inline>li:not(:last-child)::after {content: \"\\00b7\"; padding: 0 .5ex}\n",
       "</style>\n",
       "<ol class=list-inline><li>'ride_id'</li><li>'rideable_type'</li><li>'started_at'</li><li>'ended_at'</li><li>'start_station_name'</li><li>'start_station_id'</li><li>'end_station_name'</li><li>'end_station_id'</li><li>'start_lat'</li><li>'start_lng'</li><li>'end_lat'</li><li>'end_lng'</li><li>'member_casual'</li></ol>\n"
      ],
      "text/latex": [
       "\\begin{enumerate*}\n",
       "\\item 'ride\\_id'\n",
       "\\item 'rideable\\_type'\n",
       "\\item 'started\\_at'\n",
       "\\item 'ended\\_at'\n",
       "\\item 'start\\_station\\_name'\n",
       "\\item 'start\\_station\\_id'\n",
       "\\item 'end\\_station\\_name'\n",
       "\\item 'end\\_station\\_id'\n",
       "\\item 'start\\_lat'\n",
       "\\item 'start\\_lng'\n",
       "\\item 'end\\_lat'\n",
       "\\item 'end\\_lng'\n",
       "\\item 'member\\_casual'\n",
       "\\end{enumerate*}\n"
      ],
      "text/markdown": [
       "1. 'ride_id'\n",
       "2. 'rideable_type'\n",
       "3. 'started_at'\n",
       "4. 'ended_at'\n",
       "5. 'start_station_name'\n",
       "6. 'start_station_id'\n",
       "7. 'end_station_name'\n",
       "8. 'end_station_id'\n",
       "9. 'start_lat'\n",
       "10. 'start_lng'\n",
       "11. 'end_lat'\n",
       "12. 'end_lng'\n",
       "13. 'member_casual'\n",
       "\n",
       "\n"
      ],
      "text/plain": [
       " [1] \"ride_id\"            \"rideable_type\"      \"started_at\"        \n",
       " [4] \"ended_at\"           \"start_station_name\" \"start_station_id\"  \n",
       " [7] \"end_station_name\"   \"end_station_id\"     \"start_lat\"         \n",
       "[10] \"start_lng\"          \"end_lat\"            \"end_lng\"           \n",
       "[13] \"member_casual\"     "
      ]
     },
     "metadata": {},
     "output_type": "display_data"
    }
   ],
   "source": [
    "### step 3: Checking if cloumn names are consistent in each .csv file, we'll be using colnames() here.\n",
    "colnames(Apr_2020)\n",
    "colnames(May_2020)\n",
    "colnames(Jun_2020)\n",
    "colnames(Jul_2020)\n",
    "colnames(Aug_2020)\n",
    "colnames(Sep_2020)\n",
    "colnames(Oct_2020)\n",
    "colnames(Nov_2020)\n",
    "colnames(Dec_2020)\n",
    "colnames(Jan_2021)\n",
    "colnames(Feb_2021)\n",
    "colnames(Mar_2021)"
   ]
  },
  {
   "cell_type": "code",
   "execution_count": 4,
   "id": "0fc08787",
   "metadata": {
    "execution": {
     "iopub.execute_input": "2021-07-04T09:12:27.366881Z",
     "iopub.status.busy": "2021-07-04T09:12:27.364782Z",
     "iopub.status.idle": "2021-07-04T09:12:28.108504Z",
     "shell.execute_reply": "2021-07-04T09:12:28.105887Z"
    },
    "papermill": {
     "duration": 0.769567,
     "end_time": "2021-07-04T09:12:28.108717",
     "exception": false,
     "start_time": "2021-07-04T09:12:27.339150",
     "status": "completed"
    },
    "tags": []
   },
   "outputs": [
    {
     "name": "stdout",
     "output_type": "stream",
     "text": [
      "spec_tbl_df [84,776 × 13] (S3: spec_tbl_df/tbl_df/tbl/data.frame)\n",
      " $ ride_id           : chr [1:84776] \"A847FADBBC638E45\" \"5405B80E996FF60D\" \"5DD24A79A4E006F4\" \"2A59BBDF5CDBA725\" ...\n",
      " $ rideable_type     : chr [1:84776] \"docked_bike\" \"docked_bike\" \"docked_bike\" \"docked_bike\" ...\n",
      " $ started_at        : POSIXct[1:84776], format: \"2020-04-26 17:45:14\" \"2020-04-17 17:08:54\" ...\n",
      " $ ended_at          : POSIXct[1:84776], format: \"2020-04-26 18:12:03\" \"2020-04-17 17:17:03\" ...\n",
      " $ start_station_name: chr [1:84776] \"Eckhart Park\" \"Drake Ave & Fullerton Ave\" \"McClurg Ct & Erie St\" \"California Ave & Division St\" ...\n",
      " $ start_station_id  : num [1:84776] 86 503 142 216 125 173 35 434 627 377 ...\n",
      " $ end_station_name  : chr [1:84776] \"Lincoln Ave & Diversey Pkwy\" \"Kosciuszko Park\" \"Indiana Ave & Roosevelt Rd\" \"Wood St & Augusta Blvd\" ...\n",
      " $ end_station_id    : num [1:84776] 152 499 255 657 323 35 635 382 359 508 ...\n",
      " $ start_lat         : num [1:84776] 41.9 41.9 41.9 41.9 41.9 ...\n",
      " $ start_lng         : num [1:84776] -87.7 -87.7 -87.6 -87.7 -87.6 ...\n",
      " $ end_lat           : num [1:84776] 41.9 41.9 41.9 41.9 42 ...\n",
      " $ end_lng           : num [1:84776] -87.7 -87.7 -87.6 -87.7 -87.7 ...\n",
      " $ member_casual     : chr [1:84776] \"member\" \"member\" \"member\" \"member\" ...\n",
      " - attr(*, \"spec\")=\n",
      "  .. cols(\n",
      "  ..   ride_id = \u001b[31mcol_character()\u001b[39m,\n",
      "  ..   rideable_type = \u001b[31mcol_character()\u001b[39m,\n",
      "  ..   started_at = \u001b[34mcol_datetime(format = \"\")\u001b[39m,\n",
      "  ..   ended_at = \u001b[34mcol_datetime(format = \"\")\u001b[39m,\n",
      "  ..   start_station_name = \u001b[31mcol_character()\u001b[39m,\n",
      "  ..   start_station_id = \u001b[32mcol_double()\u001b[39m,\n",
      "  ..   end_station_name = \u001b[31mcol_character()\u001b[39m,\n",
      "  ..   end_station_id = \u001b[32mcol_double()\u001b[39m,\n",
      "  ..   start_lat = \u001b[32mcol_double()\u001b[39m,\n",
      "  ..   start_lng = \u001b[32mcol_double()\u001b[39m,\n",
      "  ..   end_lat = \u001b[32mcol_double()\u001b[39m,\n",
      "  ..   end_lng = \u001b[32mcol_double()\u001b[39m,\n",
      "  ..   member_casual = \u001b[31mcol_character()\u001b[39m\n",
      "  .. )\n",
      "spec_tbl_df [200,274 × 13] (S3: spec_tbl_df/tbl_df/tbl/data.frame)\n",
      " $ ride_id           : chr [1:200274] \"02668AD35674B983\" \"7A50CCAF1EDDB28F\" \"2FFCDFDB91FE9A52\" \"58991CF1DB75BA84\" ...\n",
      " $ rideable_type     : chr [1:200274] \"docked_bike\" \"docked_bike\" \"docked_bike\" \"docked_bike\" ...\n",
      " $ started_at        : POSIXct[1:200274], format: \"2020-05-27 10:03:52\" \"2020-05-25 10:47:11\" ...\n",
      " $ ended_at          : POSIXct[1:200274], format: \"2020-05-27 10:16:49\" \"2020-05-25 11:05:40\" ...\n",
      " $ start_station_name: chr [1:200274] \"Franklin St & Jackson Blvd\" \"Clark St & Wrightwood Ave\" \"Kedzie Ave & Milwaukee Ave\" \"Clarendon Ave & Leland Ave\" ...\n",
      " $ start_station_id  : num [1:200274] 36 340 260 251 261 206 261 180 331 219 ...\n",
      " $ end_station_name  : chr [1:200274] \"Wabash Ave & Grand Ave\" \"Clark St & Leland Ave\" \"Kedzie Ave & Milwaukee Ave\" \"Lake Shore Dr & Wellington Ave\" ...\n",
      " $ end_station_id    : num [1:200274] 199 326 260 157 206 22 261 180 300 305 ...\n",
      " $ start_lat         : num [1:200274] 41.9 41.9 41.9 42 41.9 ...\n",
      " $ start_lng         : num [1:200274] -87.6 -87.6 -87.7 -87.7 -87.7 ...\n",
      " $ end_lat           : num [1:200274] 41.9 42 41.9 41.9 41.8 ...\n",
      " $ end_lng           : num [1:200274] -87.6 -87.7 -87.7 -87.6 -87.6 ...\n",
      " $ member_casual     : chr [1:200274] \"member\" \"casual\" \"casual\" \"casual\" ...\n",
      " - attr(*, \"spec\")=\n",
      "  .. cols(\n",
      "  ..   ride_id = \u001b[31mcol_character()\u001b[39m,\n",
      "  ..   rideable_type = \u001b[31mcol_character()\u001b[39m,\n",
      "  ..   started_at = \u001b[34mcol_datetime(format = \"\")\u001b[39m,\n",
      "  ..   ended_at = \u001b[34mcol_datetime(format = \"\")\u001b[39m,\n",
      "  ..   start_station_name = \u001b[31mcol_character()\u001b[39m,\n",
      "  ..   start_station_id = \u001b[32mcol_double()\u001b[39m,\n",
      "  ..   end_station_name = \u001b[31mcol_character()\u001b[39m,\n",
      "  ..   end_station_id = \u001b[32mcol_double()\u001b[39m,\n",
      "  ..   start_lat = \u001b[32mcol_double()\u001b[39m,\n",
      "  ..   start_lng = \u001b[32mcol_double()\u001b[39m,\n",
      "  ..   end_lat = \u001b[32mcol_double()\u001b[39m,\n",
      "  ..   end_lng = \u001b[32mcol_double()\u001b[39m,\n",
      "  ..   member_casual = \u001b[31mcol_character()\u001b[39m\n",
      "  .. )\n",
      "spec_tbl_df [343,005 × 13] (S3: spec_tbl_df/tbl_df/tbl/data.frame)\n",
      " $ ride_id           : chr [1:343005] \"8CD5DE2C2B6C4CFC\" \"9A191EB2C751D85D\" \"F37D14B0B5659BCF\" \"C41237B506E85FA1\" ...\n",
      " $ rideable_type     : chr [1:343005] \"docked_bike\" \"docked_bike\" \"docked_bike\" \"docked_bike\" ...\n",
      " $ started_at        : POSIXct[1:343005], format: \"2020-06-13 23:24:48\" \"2020-06-26 07:26:10\" ...\n",
      " $ ended_at          : POSIXct[1:343005], format: \"2020-06-13 23:36:55\" \"2020-06-26 07:31:58\" ...\n",
      " $ start_station_name: chr [1:343005] \"Wilton Ave & Belmont Ave\" \"Federal St & Polk St\" \"Daley Center Plaza\" \"Broadway & Cornelia Ave\" ...\n",
      " $ start_station_id  : num [1:343005] 117 41 81 303 327 327 41 115 338 84 ...\n",
      " $ end_station_name  : chr [1:343005] \"Damen Ave & Clybourn Ave\" \"Daley Center Plaza\" \"State St & Harrison St\" \"Broadway & Berwyn Ave\" ...\n",
      " $ end_station_id    : num [1:343005] 163 81 5 294 117 117 81 303 164 53 ...\n",
      " $ start_lat         : num [1:343005] 41.9 41.9 41.9 41.9 41.9 ...\n",
      " $ start_lng         : num [1:343005] -87.7 -87.6 -87.6 -87.6 -87.7 ...\n",
      " $ end_lat           : num [1:343005] 41.9 41.9 41.9 42 41.9 ...\n",
      " $ end_lng           : num [1:343005] -87.7 -87.6 -87.6 -87.7 -87.7 ...\n",
      " $ member_casual     : chr [1:343005] \"casual\" \"member\" \"member\" \"casual\" ...\n",
      " - attr(*, \"spec\")=\n",
      "  .. cols(\n",
      "  ..   ride_id = \u001b[31mcol_character()\u001b[39m,\n",
      "  ..   rideable_type = \u001b[31mcol_character()\u001b[39m,\n",
      "  ..   started_at = \u001b[34mcol_datetime(format = \"\")\u001b[39m,\n",
      "  ..   ended_at = \u001b[34mcol_datetime(format = \"\")\u001b[39m,\n",
      "  ..   start_station_name = \u001b[31mcol_character()\u001b[39m,\n",
      "  ..   start_station_id = \u001b[32mcol_double()\u001b[39m,\n",
      "  ..   end_station_name = \u001b[31mcol_character()\u001b[39m,\n",
      "  ..   end_station_id = \u001b[32mcol_double()\u001b[39m,\n",
      "  ..   start_lat = \u001b[32mcol_double()\u001b[39m,\n",
      "  ..   start_lng = \u001b[32mcol_double()\u001b[39m,\n",
      "  ..   end_lat = \u001b[32mcol_double()\u001b[39m,\n",
      "  ..   end_lng = \u001b[32mcol_double()\u001b[39m,\n",
      "  ..   member_casual = \u001b[31mcol_character()\u001b[39m\n",
      "  .. )\n",
      "spec_tbl_df [551,480 × 13] (S3: spec_tbl_df/tbl_df/tbl/data.frame)\n",
      " $ ride_id           : chr [1:551480] \"762198876D69004D\" \"BEC9C9FBA0D4CF1B\" \"D2FD8EA432C77EC1\" \"54AE594E20B35881\" ...\n",
      " $ rideable_type     : chr [1:551480] \"docked_bike\" \"docked_bike\" \"docked_bike\" \"docked_bike\" ...\n",
      " $ started_at        : POSIXct[1:551480], format: \"2020-07-09 15:22:02\" \"2020-07-24 23:56:30\" ...\n",
      " $ ended_at          : POSIXct[1:551480], format: \"2020-07-09 15:25:52\" \"2020-07-25 00:20:17\" ...\n",
      " $ start_station_name: chr [1:551480] \"Ritchie Ct & Banks St\" \"Halsted St & Roscoe St\" \"Lake Shore Dr & Diversey Pkwy\" \"LaSalle St & Illinois St\" ...\n",
      " $ start_station_id  : num [1:551480] 180 299 329 181 268 635 113 211 176 31 ...\n",
      " $ end_station_name  : chr [1:551480] \"Wells St & Evergreen Ave\" \"Broadway & Ridge Ave\" \"Clark St & Wellington Ave\" \"Clark St & Armitage Ave\" ...\n",
      " $ end_station_id    : num [1:551480] 291 461 156 94 301 289 140 31 191 142 ...\n",
      " $ start_lat         : num [1:551480] 41.9 41.9 41.9 41.9 41.9 ...\n",
      " $ start_lng         : num [1:551480] -87.6 -87.6 -87.6 -87.6 -87.6 ...\n",
      " $ end_lat           : num [1:551480] 41.9 42 41.9 41.9 41.9 ...\n",
      " $ end_lng           : num [1:551480] -87.6 -87.7 -87.6 -87.6 -87.6 ...\n",
      " $ member_casual     : chr [1:551480] \"member\" \"member\" \"casual\" \"casual\" ...\n",
      " - attr(*, \"spec\")=\n",
      "  .. cols(\n",
      "  ..   ride_id = \u001b[31mcol_character()\u001b[39m,\n",
      "  ..   rideable_type = \u001b[31mcol_character()\u001b[39m,\n",
      "  ..   started_at = \u001b[34mcol_datetime(format = \"\")\u001b[39m,\n",
      "  ..   ended_at = \u001b[34mcol_datetime(format = \"\")\u001b[39m,\n",
      "  ..   start_station_name = \u001b[31mcol_character()\u001b[39m,\n",
      "  ..   start_station_id = \u001b[32mcol_double()\u001b[39m,\n",
      "  ..   end_station_name = \u001b[31mcol_character()\u001b[39m,\n",
      "  ..   end_station_id = \u001b[32mcol_double()\u001b[39m,\n",
      "  ..   start_lat = \u001b[32mcol_double()\u001b[39m,\n",
      "  ..   start_lng = \u001b[32mcol_double()\u001b[39m,\n",
      "  ..   end_lat = \u001b[32mcol_double()\u001b[39m,\n",
      "  ..   end_lng = \u001b[32mcol_double()\u001b[39m,\n",
      "  ..   member_casual = \u001b[31mcol_character()\u001b[39m\n",
      "  .. )\n",
      "spec_tbl_df [622,361 × 13] (S3: spec_tbl_df/tbl_df/tbl/data.frame)\n",
      " $ ride_id           : chr [1:622361] \"322BD23D287743ED\" \"2A3AEF1AB9054D8B\" \"67DC1D133E8B5816\" \"C79FBBD412E578A7\" ...\n",
      " $ rideable_type     : chr [1:622361] \"docked_bike\" \"electric_bike\" \"electric_bike\" \"electric_bike\" ...\n",
      " $ started_at        : POSIXct[1:622361], format: \"2020-08-20 18:08:14\" \"2020-08-27 18:46:04\" ...\n",
      " $ ended_at          : POSIXct[1:622361], format: \"2020-08-20 18:17:51\" \"2020-08-27 19:54:51\" ...\n",
      " $ start_station_name: chr [1:622361] \"Lake Shore Dr & Diversey Pkwy\" \"Michigan Ave & 14th St\" \"Columbus Dr & Randolph St\" \"Daley Center Plaza\" ...\n",
      " $ start_station_id  : num [1:622361] 329 168 195 81 658 658 196 67 153 177 ...\n",
      " $ end_station_name  : chr [1:622361] \"Clark St & Lincoln Ave\" \"Michigan Ave & 14th St\" \"State St & Randolph St\" \"State St & Kinzie St\" ...\n",
      " $ end_station_id    : num [1:622361] 141 168 44 47 658 658 49 229 225 305 ...\n",
      " $ start_lat         : num [1:622361] 41.9 41.9 41.9 41.9 41.9 ...\n",
      " $ start_lng         : num [1:622361] -87.6 -87.6 -87.6 -87.6 -87.7 ...\n",
      " $ end_lat           : num [1:622361] 41.9 41.9 41.9 41.9 41.9 ...\n",
      " $ end_lng           : num [1:622361] -87.6 -87.6 -87.6 -87.6 -87.7 ...\n",
      " $ member_casual     : chr [1:622361] \"member\" \"casual\" \"casual\" \"casual\" ...\n",
      " - attr(*, \"spec\")=\n",
      "  .. cols(\n",
      "  ..   ride_id = \u001b[31mcol_character()\u001b[39m,\n",
      "  ..   rideable_type = \u001b[31mcol_character()\u001b[39m,\n",
      "  ..   started_at = \u001b[34mcol_datetime(format = \"\")\u001b[39m,\n",
      "  ..   ended_at = \u001b[34mcol_datetime(format = \"\")\u001b[39m,\n",
      "  ..   start_station_name = \u001b[31mcol_character()\u001b[39m,\n",
      "  ..   start_station_id = \u001b[32mcol_double()\u001b[39m,\n",
      "  ..   end_station_name = \u001b[31mcol_character()\u001b[39m,\n",
      "  ..   end_station_id = \u001b[32mcol_double()\u001b[39m,\n",
      "  ..   start_lat = \u001b[32mcol_double()\u001b[39m,\n",
      "  ..   start_lng = \u001b[32mcol_double()\u001b[39m,\n",
      "  ..   end_lat = \u001b[32mcol_double()\u001b[39m,\n",
      "  ..   end_lng = \u001b[32mcol_double()\u001b[39m,\n",
      "  ..   member_casual = \u001b[31mcol_character()\u001b[39m\n",
      "  .. )\n",
      "spec_tbl_df [532,958 × 13] (S3: spec_tbl_df/tbl_df/tbl/data.frame)\n",
      " $ ride_id           : chr [1:532958] \"2B22BD5F95FB2629\" \"A7FB70B4AFC6CAF2\" \"86057FA01BAC778E\" \"57F6DC9A153DB98C\" ...\n",
      " $ rideable_type     : chr [1:532958] \"electric_bike\" \"electric_bike\" \"electric_bike\" \"electric_bike\" ...\n",
      " $ started_at        : POSIXct[1:532958], format: \"2020-09-17 14:27:11\" \"2020-09-17 15:07:31\" ...\n",
      " $ ended_at          : POSIXct[1:532958], format: \"2020-09-17 14:44:24\" \"2020-09-17 15:07:45\" ...\n",
      " $ start_station_name: chr [1:532958] \"Michigan Ave & Lake St\" \"W Oakdale Ave & N Broadway\" \"W Oakdale Ave & N Broadway\" \"Ashland Ave & Belle Plaine Ave\" ...\n",
      " $ start_station_id  : num [1:532958] 52 NA NA 246 24 94 291 NA NA NA ...\n",
      " $ end_station_name  : chr [1:532958] \"Green St & Randolph St\" \"W Oakdale Ave & N Broadway\" \"W Oakdale Ave & N Broadway\" \"Montrose Harbor\" ...\n",
      " $ end_station_id    : num [1:532958] 112 NA NA 249 24 NA 256 NA NA NA ...\n",
      " $ start_lat         : num [1:532958] 41.9 41.9 41.9 42 41.9 ...\n",
      " $ start_lng         : num [1:532958] -87.6 -87.6 -87.6 -87.7 -87.6 ...\n",
      " $ end_lat           : num [1:532958] 41.9 41.9 41.9 42 41.9 ...\n",
      " $ end_lng           : num [1:532958] -87.6 -87.6 -87.6 -87.6 -87.6 ...\n",
      " $ member_casual     : chr [1:532958] \"casual\" \"casual\" \"casual\" \"casual\" ...\n",
      " - attr(*, \"spec\")=\n",
      "  .. cols(\n",
      "  ..   ride_id = \u001b[31mcol_character()\u001b[39m,\n",
      "  ..   rideable_type = \u001b[31mcol_character()\u001b[39m,\n",
      "  ..   started_at = \u001b[34mcol_datetime(format = \"\")\u001b[39m,\n",
      "  ..   ended_at = \u001b[34mcol_datetime(format = \"\")\u001b[39m,\n",
      "  ..   start_station_name = \u001b[31mcol_character()\u001b[39m,\n",
      "  ..   start_station_id = \u001b[32mcol_double()\u001b[39m,\n",
      "  ..   end_station_name = \u001b[31mcol_character()\u001b[39m,\n",
      "  ..   end_station_id = \u001b[32mcol_double()\u001b[39m,\n",
      "  ..   start_lat = \u001b[32mcol_double()\u001b[39m,\n",
      "  ..   start_lng = \u001b[32mcol_double()\u001b[39m,\n",
      "  ..   end_lat = \u001b[32mcol_double()\u001b[39m,\n",
      "  ..   end_lng = \u001b[32mcol_double()\u001b[39m,\n",
      "  ..   member_casual = \u001b[31mcol_character()\u001b[39m\n",
      "  .. )\n",
      "spec_tbl_df [388,653 × 13] (S3: spec_tbl_df/tbl_df/tbl/data.frame)\n",
      " $ ride_id           : chr [1:388653] \"ACB6B40CF5B9044C\" \"DF450C72FD109C01\" \"B6396B54A15AC0DF\" \"44A4AEE261B9E854\" ...\n",
      " $ rideable_type     : chr [1:388653] \"electric_bike\" \"electric_bike\" \"electric_bike\" \"electric_bike\" ...\n",
      " $ started_at        : POSIXct[1:388653], format: \"2020-10-31 19:39:43\" \"2020-10-31 23:50:08\" ...\n",
      " $ ended_at          : POSIXct[1:388653], format: \"2020-10-31 19:57:12\" \"2020-11-01 00:04:16\" ...\n",
      " $ start_station_name: chr [1:388653] \"Lakeview Ave & Fullerton Pkwy\" \"Southport Ave & Waveland Ave\" \"Stony Island Ave & 67th St\" \"Clark St & Grace St\" ...\n",
      " $ start_station_id  : num [1:388653] 313 227 102 165 190 359 313 125 NA 174 ...\n",
      " $ end_station_name  : chr [1:388653] \"Rush St & Hubbard St\" \"Kedzie Ave & Milwaukee Ave\" \"University Ave & 57th St\" \"Broadway & Sheridan Rd\" ...\n",
      " $ end_station_id    : num [1:388653] 125 260 423 256 185 53 125 313 199 635 ...\n",
      " $ start_lat         : num [1:388653] 41.9 41.9 41.8 42 41.9 ...\n",
      " $ start_lng         : num [1:388653] -87.6 -87.7 -87.6 -87.7 -87.7 ...\n",
      " $ end_lat           : num [1:388653] 41.9 41.9 41.8 42 41.9 ...\n",
      " $ end_lng           : num [1:388653] -87.6 -87.7 -87.6 -87.7 -87.7 ...\n",
      " $ member_casual     : chr [1:388653] \"casual\" \"casual\" \"casual\" \"casual\" ...\n",
      " - attr(*, \"spec\")=\n",
      "  .. cols(\n",
      "  ..   ride_id = \u001b[31mcol_character()\u001b[39m,\n",
      "  ..   rideable_type = \u001b[31mcol_character()\u001b[39m,\n",
      "  ..   started_at = \u001b[34mcol_datetime(format = \"\")\u001b[39m,\n",
      "  ..   ended_at = \u001b[34mcol_datetime(format = \"\")\u001b[39m,\n",
      "  ..   start_station_name = \u001b[31mcol_character()\u001b[39m,\n",
      "  ..   start_station_id = \u001b[32mcol_double()\u001b[39m,\n",
      "  ..   end_station_name = \u001b[31mcol_character()\u001b[39m,\n",
      "  ..   end_station_id = \u001b[32mcol_double()\u001b[39m,\n",
      "  ..   start_lat = \u001b[32mcol_double()\u001b[39m,\n",
      "  ..   start_lng = \u001b[32mcol_double()\u001b[39m,\n",
      "  ..   end_lat = \u001b[32mcol_double()\u001b[39m,\n",
      "  ..   end_lng = \u001b[32mcol_double()\u001b[39m,\n",
      "  ..   member_casual = \u001b[31mcol_character()\u001b[39m\n",
      "  .. )\n",
      "spec_tbl_df [259,716 × 13] (S3: spec_tbl_df/tbl_df/tbl/data.frame)\n",
      " $ ride_id           : chr [1:259716] \"BD0A6FF6FFF9B921\" \"96A7A7A4BDE4F82D\" \"C61526D06582BDC5\" \"E533E89C32080B9E\" ...\n",
      " $ rideable_type     : chr [1:259716] \"electric_bike\" \"electric_bike\" \"electric_bike\" \"electric_bike\" ...\n",
      " $ started_at        : POSIXct[1:259716], format: \"2020-11-01 13:36:00\" \"2020-11-01 10:03:26\" ...\n",
      " $ ended_at          : POSIXct[1:259716], format: \"2020-11-01 13:45:40\" \"2020-11-01 10:14:45\" ...\n",
      " $ start_station_name: chr [1:259716] \"Dearborn St & Erie St\" \"Franklin St & Illinois St\" \"Lake Shore Dr & Monroe St\" \"Leavitt St & Chicago Ave\" ...\n",
      " $ start_station_id  : num [1:259716] 110 672 76 659 2 72 76 NA 58 394 ...\n",
      " $ end_station_name  : chr [1:259716] \"St. Clair St & Erie St\" \"Noble St & Milwaukee Ave\" \"Federal St & Polk St\" \"Stave St & Armitage Ave\" ...\n",
      " $ end_station_id    : num [1:259716] 211 29 41 185 2 76 72 NA 288 273 ...\n",
      " $ start_lat         : num [1:259716] 41.9 41.9 41.9 41.9 41.9 ...\n",
      " $ start_lng         : num [1:259716] -87.6 -87.6 -87.6 -87.7 -87.6 ...\n",
      " $ end_lat           : num [1:259716] 41.9 41.9 41.9 41.9 41.9 ...\n",
      " $ end_lng           : num [1:259716] -87.6 -87.7 -87.6 -87.7 -87.6 ...\n",
      " $ member_casual     : chr [1:259716] \"casual\" \"casual\" \"casual\" \"casual\" ...\n",
      " - attr(*, \"spec\")=\n",
      "  .. cols(\n",
      "  ..   ride_id = \u001b[31mcol_character()\u001b[39m,\n",
      "  ..   rideable_type = \u001b[31mcol_character()\u001b[39m,\n",
      "  ..   started_at = \u001b[34mcol_datetime(format = \"\")\u001b[39m,\n",
      "  ..   ended_at = \u001b[34mcol_datetime(format = \"\")\u001b[39m,\n",
      "  ..   start_station_name = \u001b[31mcol_character()\u001b[39m,\n",
      "  ..   start_station_id = \u001b[32mcol_double()\u001b[39m,\n",
      "  ..   end_station_name = \u001b[31mcol_character()\u001b[39m,\n",
      "  ..   end_station_id = \u001b[32mcol_double()\u001b[39m,\n",
      "  ..   start_lat = \u001b[32mcol_double()\u001b[39m,\n",
      "  ..   start_lng = \u001b[32mcol_double()\u001b[39m,\n",
      "  ..   end_lat = \u001b[32mcol_double()\u001b[39m,\n",
      "  ..   end_lng = \u001b[32mcol_double()\u001b[39m,\n",
      "  ..   member_casual = \u001b[31mcol_character()\u001b[39m\n",
      "  .. )\n",
      "spec_tbl_df [131,573 × 13] (S3: spec_tbl_df/tbl_df/tbl/data.frame)\n",
      " $ ride_id           : chr [1:131573] \"70B6A9A437D4C30D\" \"158A465D4E74C54A\" \"5262016E0F1F2F9A\" \"BE119628E44F871E\" ...\n",
      " $ rideable_type     : chr [1:131573] \"classic_bike\" \"electric_bike\" \"electric_bike\" \"electric_bike\" ...\n",
      " $ started_at        : POSIXct[1:131573], format: \"2020-12-27 12:44:29\" \"2020-12-18 17:37:15\" ...\n",
      " $ ended_at          : POSIXct[1:131573], format: \"2020-12-27 12:55:06\" \"2020-12-18 17:44:19\" ...\n",
      " $ start_station_name: chr [1:131573] \"Aberdeen St & Jackson Blvd\" NA NA NA ...\n",
      " $ start_station_id  : chr [1:131573] \"13157\" NA NA NA ...\n",
      " $ end_station_name  : chr [1:131573] \"Desplaines St & Kinzie St\" NA NA NA ...\n",
      " $ end_station_id    : chr [1:131573] \"TA1306000003\" NA NA NA ...\n",
      " $ start_lat         : num [1:131573] 41.9 41.9 41.9 41.9 41.8 ...\n",
      " $ start_lng         : num [1:131573] -87.7 -87.7 -87.7 -87.7 -87.6 ...\n",
      " $ end_lat           : num [1:131573] 41.9 41.9 41.9 41.9 41.8 ...\n",
      " $ end_lng           : num [1:131573] -87.6 -87.7 -87.7 -87.7 -87.6 ...\n",
      " $ member_casual     : chr [1:131573] \"member\" \"member\" \"member\" \"member\" ...\n",
      " - attr(*, \"spec\")=\n",
      "  .. cols(\n",
      "  ..   ride_id = \u001b[31mcol_character()\u001b[39m,\n",
      "  ..   rideable_type = \u001b[31mcol_character()\u001b[39m,\n",
      "  ..   started_at = \u001b[34mcol_datetime(format = \"\")\u001b[39m,\n",
      "  ..   ended_at = \u001b[34mcol_datetime(format = \"\")\u001b[39m,\n",
      "  ..   start_station_name = \u001b[31mcol_character()\u001b[39m,\n",
      "  ..   start_station_id = \u001b[31mcol_character()\u001b[39m,\n",
      "  ..   end_station_name = \u001b[31mcol_character()\u001b[39m,\n",
      "  ..   end_station_id = \u001b[31mcol_character()\u001b[39m,\n",
      "  ..   start_lat = \u001b[32mcol_double()\u001b[39m,\n",
      "  ..   start_lng = \u001b[32mcol_double()\u001b[39m,\n",
      "  ..   end_lat = \u001b[32mcol_double()\u001b[39m,\n",
      "  ..   end_lng = \u001b[32mcol_double()\u001b[39m,\n",
      "  ..   member_casual = \u001b[31mcol_character()\u001b[39m\n",
      "  .. )\n",
      "spec_tbl_df [96,834 × 13] (S3: spec_tbl_df/tbl_df/tbl/data.frame)\n",
      " $ ride_id           : chr [1:96834] \"E19E6F1B8D4C42ED\" \"DC88F20C2C55F27F\" \"EC45C94683FE3F27\" \"4FA453A75AE377DB\" ...\n",
      " $ rideable_type     : chr [1:96834] \"electric_bike\" \"electric_bike\" \"electric_bike\" \"electric_bike\" ...\n",
      " $ started_at        : POSIXct[1:96834], format: \"2021-01-23 16:14:19\" \"2021-01-27 18:43:08\" ...\n",
      " $ ended_at          : POSIXct[1:96834], format: \"2021-01-23 16:24:44\" \"2021-01-27 18:47:12\" ...\n",
      " $ start_station_name: chr [1:96834] \"California Ave & Cortez St\" \"California Ave & Cortez St\" \"California Ave & Cortez St\" \"California Ave & Cortez St\" ...\n",
      " $ start_station_id  : chr [1:96834] \"17660\" \"17660\" \"17660\" \"17660\" ...\n",
      " $ end_station_name  : chr [1:96834] NA NA NA NA ...\n",
      " $ end_station_id    : chr [1:96834] NA NA NA NA ...\n",
      " $ start_lat         : num [1:96834] 41.9 41.9 41.9 41.9 41.9 ...\n",
      " $ start_lng         : num [1:96834] -87.7 -87.7 -87.7 -87.7 -87.7 ...\n",
      " $ end_lat           : num [1:96834] 41.9 41.9 41.9 41.9 41.9 ...\n",
      " $ end_lng           : num [1:96834] -87.7 -87.7 -87.7 -87.7 -87.7 ...\n",
      " $ member_casual     : chr [1:96834] \"member\" \"member\" \"member\" \"member\" ...\n",
      " - attr(*, \"spec\")=\n",
      "  .. cols(\n",
      "  ..   ride_id = \u001b[31mcol_character()\u001b[39m,\n",
      "  ..   rideable_type = \u001b[31mcol_character()\u001b[39m,\n",
      "  ..   started_at = \u001b[34mcol_datetime(format = \"\")\u001b[39m,\n",
      "  ..   ended_at = \u001b[34mcol_datetime(format = \"\")\u001b[39m,\n",
      "  ..   start_station_name = \u001b[31mcol_character()\u001b[39m,\n",
      "  ..   start_station_id = \u001b[31mcol_character()\u001b[39m,\n",
      "  ..   end_station_name = \u001b[31mcol_character()\u001b[39m,\n",
      "  ..   end_station_id = \u001b[31mcol_character()\u001b[39m,\n",
      "  ..   start_lat = \u001b[32mcol_double()\u001b[39m,\n",
      "  ..   start_lng = \u001b[32mcol_double()\u001b[39m,\n",
      "  ..   end_lat = \u001b[32mcol_double()\u001b[39m,\n",
      "  ..   end_lng = \u001b[32mcol_double()\u001b[39m,\n",
      "  ..   member_casual = \u001b[31mcol_character()\u001b[39m\n",
      "  .. )\n",
      "spec_tbl_df [49,622 × 13] (S3: spec_tbl_df/tbl_df/tbl/data.frame)\n",
      " $ ride_id           : chr [1:49622] \"89E7AA6C29227EFF\" \"0FEFDE2603568365\" \"E6159D746B2DBB91\" \"B32D3199F1C2E75B\" ...\n",
      " $ rideable_type     : chr [1:49622] \"classic_bike\" \"classic_bike\" \"electric_bike\" \"classic_bike\" ...\n",
      " $ started_at        : POSIXct[1:49622], format: \"2021-02-12 16:14:56\" \"2021-02-14 17:52:38\" ...\n",
      " $ ended_at          : POSIXct[1:49622], format: \"2021-02-12 16:21:43\" \"2021-02-14 18:12:09\" ...\n",
      " $ start_station_name: chr [1:49622] \"Glenwood Ave & Touhy Ave\" \"Glenwood Ave & Touhy Ave\" \"Clark St & Lake St\" \"Wood St & Chicago Ave\" ...\n",
      " $ start_station_id  : chr [1:49622] \"525\" \"525\" \"KA1503000012\" \"637\" ...\n",
      " $ end_station_name  : chr [1:49622] \"Sheridan Rd & Columbia Ave\" \"Bosworth Ave & Howard St\" \"State St & Randolph St\" \"Honore St & Division St\" ...\n",
      " $ end_station_id    : chr [1:49622] \"660\" \"16806\" \"TA1305000029\" \"TA1305000034\" ...\n",
      " $ start_lat         : num [1:49622] 42 42 41.9 41.9 41.8 ...\n",
      " $ start_lng         : num [1:49622] -87.7 -87.7 -87.6 -87.7 -87.6 ...\n",
      " $ end_lat           : num [1:49622] 42 42 41.9 41.9 41.8 ...\n",
      " $ end_lng           : num [1:49622] -87.7 -87.7 -87.6 -87.7 -87.6 ...\n",
      " $ member_casual     : chr [1:49622] \"member\" \"casual\" \"member\" \"member\" ...\n",
      " - attr(*, \"spec\")=\n",
      "  .. cols(\n",
      "  ..   ride_id = \u001b[31mcol_character()\u001b[39m,\n",
      "  ..   rideable_type = \u001b[31mcol_character()\u001b[39m,\n",
      "  ..   started_at = \u001b[34mcol_datetime(format = \"\")\u001b[39m,\n",
      "  ..   ended_at = \u001b[34mcol_datetime(format = \"\")\u001b[39m,\n",
      "  ..   start_station_name = \u001b[31mcol_character()\u001b[39m,\n",
      "  ..   start_station_id = \u001b[31mcol_character()\u001b[39m,\n",
      "  ..   end_station_name = \u001b[31mcol_character()\u001b[39m,\n",
      "  ..   end_station_id = \u001b[31mcol_character()\u001b[39m,\n",
      "  ..   start_lat = \u001b[32mcol_double()\u001b[39m,\n",
      "  ..   start_lng = \u001b[32mcol_double()\u001b[39m,\n",
      "  ..   end_lat = \u001b[32mcol_double()\u001b[39m,\n",
      "  ..   end_lng = \u001b[32mcol_double()\u001b[39m,\n",
      "  ..   member_casual = \u001b[31mcol_character()\u001b[39m\n",
      "  .. )\n",
      "spec_tbl_df [228,496 × 13] (S3: spec_tbl_df/tbl_df/tbl/data.frame)\n",
      " $ ride_id           : chr [1:228496] \"CFA86D4455AA1030\" \"30D9DC61227D1AF3\" \"846D87A15682A284\" \"994D05AA75A168F2\" ...\n",
      " $ rideable_type     : chr [1:228496] \"classic_bike\" \"classic_bike\" \"classic_bike\" \"classic_bike\" ...\n",
      " $ started_at        : POSIXct[1:228496], format: \"2021-03-16 08:32:30\" \"2021-03-28 01:26:28\" ...\n",
      " $ ended_at          : POSIXct[1:228496], format: \"2021-03-16 08:36:34\" \"2021-03-28 01:36:55\" ...\n",
      " $ start_station_name: chr [1:228496] \"Humboldt Blvd & Armitage Ave\" \"Humboldt Blvd & Armitage Ave\" \"Shields Ave & 28th Pl\" \"Winthrop Ave & Lawrence Ave\" ...\n",
      " $ start_station_id  : chr [1:228496] \"15651\" \"15651\" \"15443\" \"TA1308000021\" ...\n",
      " $ end_station_name  : chr [1:228496] \"Stave St & Armitage Ave\" \"Central Park Ave & Bloomingdale Ave\" \"Halsted St & 35th St\" \"Broadway & Sheridan Rd\" ...\n",
      " $ end_station_id    : chr [1:228496] \"13266\" \"18017\" \"TA1308000043\" \"13323\" ...\n",
      " $ start_lat         : num [1:228496] 41.9 41.9 41.8 42 42 ...\n",
      " $ start_lng         : num [1:228496] -87.7 -87.7 -87.6 -87.7 -87.7 ...\n",
      " $ end_lat           : num [1:228496] 41.9 41.9 41.8 42 42.1 ...\n",
      " $ end_lng           : num [1:228496] -87.7 -87.7 -87.6 -87.6 -87.7 ...\n",
      " $ member_casual     : chr [1:228496] \"casual\" \"casual\" \"casual\" \"casual\" ...\n",
      " - attr(*, \"spec\")=\n",
      "  .. cols(\n",
      "  ..   ride_id = \u001b[31mcol_character()\u001b[39m,\n",
      "  ..   rideable_type = \u001b[31mcol_character()\u001b[39m,\n",
      "  ..   started_at = \u001b[34mcol_datetime(format = \"\")\u001b[39m,\n",
      "  ..   ended_at = \u001b[34mcol_datetime(format = \"\")\u001b[39m,\n",
      "  ..   start_station_name = \u001b[31mcol_character()\u001b[39m,\n",
      "  ..   start_station_id = \u001b[31mcol_character()\u001b[39m,\n",
      "  ..   end_station_name = \u001b[31mcol_character()\u001b[39m,\n",
      "  ..   end_station_id = \u001b[31mcol_character()\u001b[39m,\n",
      "  ..   start_lat = \u001b[32mcol_double()\u001b[39m,\n",
      "  ..   start_lng = \u001b[32mcol_double()\u001b[39m,\n",
      "  ..   end_lat = \u001b[32mcol_double()\u001b[39m,\n",
      "  ..   end_lng = \u001b[32mcol_double()\u001b[39m,\n",
      "  ..   member_casual = \u001b[31mcol_character()\u001b[39m\n",
      "  .. )\n"
     ]
    }
   ],
   "source": [
    "### Step 4: Validating the data types of cloumns. \n",
    "###This is to identify if there is any mismatch between the column name and the data present in it.\n",
    "## str() function helps you to examine the structure of the data object.\n",
    "str(Apr_2020)  \n",
    "str(May_2020)\n",
    "str(Jun_2020)\n",
    "str(Jul_2020)\n",
    "str(Aug_2020)\n",
    "str(Sep_2020)\n",
    "str(Oct_2020)\n",
    "str(Nov_2020)\n",
    "str(Dec_2020)\n",
    "str(Jan_2021)\n",
    "str(Feb_2021)\n",
    "str(Mar_2021)"
   ]
  },
  {
   "cell_type": "markdown",
   "id": "d2814e00",
   "metadata": {
    "papermill": {
     "duration": 0.032908,
     "end_time": "2021-07-04T09:12:28.179783",
     "exception": false,
     "start_time": "2021-07-04T09:12:28.146875",
     "status": "completed"
    },
    "tags": []
   },
   "source": [
    "On checking the data types of all the columns, we could see the start_station_id and end_station_id columns are presented as char in some of the datasets, inorder to have consistent data throughout we'll modify them into double format."
   ]
  },
  {
   "cell_type": "code",
   "execution_count": 5,
   "id": "d191876a",
   "metadata": {
    "execution": {
     "iopub.execute_input": "2021-07-04T09:12:28.237212Z",
     "iopub.status.busy": "2021-07-04T09:12:28.235365Z",
     "iopub.status.idle": "2021-07-04T09:12:28.898456Z",
     "shell.execute_reply": "2021-07-04T09:12:28.896774Z"
    },
    "papermill": {
     "duration": 0.693251,
     "end_time": "2021-07-04T09:12:28.898799",
     "exception": false,
     "start_time": "2021-07-04T09:12:28.205548",
     "status": "completed"
    },
    "tags": []
   },
   "outputs": [
    {
     "name": "stderr",
     "output_type": "stream",
     "text": [
      "Warning message in mask$eval_all_mutate(quo):\n",
      "“NAs introduced by coercion”\n",
      "Warning message in mask$eval_all_mutate(quo):\n",
      "“NAs introduced by coercion”\n",
      "Warning message in mask$eval_all_mutate(quo):\n",
      "“NAs introduced by coercion”\n",
      "Warning message in mask$eval_all_mutate(quo):\n",
      "“NAs introduced by coercion”\n",
      "Warning message in mask$eval_all_mutate(quo):\n",
      "“NAs introduced by coercion”\n",
      "Warning message in mask$eval_all_mutate(quo):\n",
      "“NAs introduced by coercion”\n",
      "Warning message in mask$eval_all_mutate(quo):\n",
      "“NAs introduced by coercion”\n",
      "Warning message in mask$eval_all_mutate(quo):\n",
      "“NAs introduced by coercion”\n"
     ]
    }
   ],
   "source": [
    "#Step 5: Making consistent data types for columns in each of the datasets using mutate()\n",
    "Apr_2020 <-  mutate(Apr_2020, start_station_id = as.double(start_station_id),end_station_id = as.double(end_station_id))  \n",
    "May_2020 <-  mutate(May_2020, start_station_id = as.double(start_station_id),end_station_id = as.double(end_station_id))  \n",
    "Jun_2020 <-  mutate(Jun_2020, start_station_id = as.double(start_station_id),end_station_id = as.double(end_station_id)) \n",
    "Jul_2020 <-  mutate(Jul_2020, start_station_id = as.double(start_station_id),end_station_id = as.double(end_station_id)) \n",
    "Aug_2020 <-  mutate(Aug_2020, start_station_id = as.double(start_station_id),end_station_id = as.double(end_station_id)) \n",
    "Sep_2020 <-  mutate(Sep_2020, start_station_id = as.double(start_station_id),end_station_id = as.double(end_station_id)) \n",
    "Oct_2020 <-  mutate(Oct_2020, start_station_id = as.double(start_station_id),end_station_id = as.double(end_station_id))  \n",
    "Nov_2020 <-  mutate(Nov_2020, start_station_id = as.double(start_station_id),end_station_id = as.double(end_station_id))  \n",
    "Dec_2020 <-  mutate(Dec_2020, start_station_id = as.double(start_station_id),end_station_id = as.double(end_station_id))\n",
    "Jan_2021 <-  mutate(Jan_2021, start_station_id = as.double(start_station_id),end_station_id = as.double(end_station_id)) \n",
    "Feb_2021 <-  mutate(Feb_2021, start_station_id = as.double(start_station_id),end_station_id = as.double(end_station_id)) \n",
    "Mar_2021 <-  mutate(Mar_2021, start_station_id = as.double(start_station_id),end_station_id = as.double(end_station_id)) "
   ]
  },
  {
   "cell_type": "code",
   "execution_count": 6,
   "id": "b98c305e",
   "metadata": {
    "execution": {
     "iopub.execute_input": "2021-07-04T09:12:28.958480Z",
     "iopub.status.busy": "2021-07-04T09:12:28.956618Z",
     "iopub.status.idle": "2021-07-04T09:12:31.969875Z",
     "shell.execute_reply": "2021-07-04T09:12:31.968317Z"
    },
    "papermill": {
     "duration": 3.044276,
     "end_time": "2021-07-04T09:12:31.970061",
     "exception": false,
     "start_time": "2021-07-04T09:12:28.925785",
     "status": "completed"
    },
    "tags": []
   },
   "outputs": [],
   "source": [
    "# Step 6: Merging all the datasets into a single data frame. We'll use bind_rows(), which binds the data frames together based on the column names.\n",
    "complete_trips <- bind_rows(Apr_2020, May_2020, Jun_2020, Jul_2020, Aug_2020, Sep_2020, Oct_2020, Nov_2020, Dec_2020, Jan_2021, Feb_2021, Mar_2021,)"
   ]
  },
  {
   "cell_type": "code",
   "execution_count": 7,
   "id": "0e9bfca7",
   "metadata": {
    "execution": {
     "iopub.execute_input": "2021-07-04T09:12:32.030719Z",
     "iopub.status.busy": "2021-07-04T09:12:32.028693Z",
     "iopub.status.idle": "2021-07-04T09:12:32.052731Z",
     "shell.execute_reply": "2021-07-04T09:12:32.051258Z"
    },
    "papermill": {
     "duration": 0.055246,
     "end_time": "2021-07-04T09:12:32.052874",
     "exception": false,
     "start_time": "2021-07-04T09:12:31.997628",
     "status": "completed"
    },
    "tags": []
   },
   "outputs": [],
   "source": [
    "#Step 7: Removing unwanted cloumns from the data frame.\n",
    "complete_trips <- complete_trips %>%  \n",
    "  select(-c(start_lat, start_lng, end_lat, end_lng))"
   ]
  },
  {
   "cell_type": "code",
   "execution_count": 8,
   "id": "f0a232ef",
   "metadata": {
    "execution": {
     "iopub.execute_input": "2021-07-04T09:12:32.112024Z",
     "iopub.status.busy": "2021-07-04T09:12:32.110161Z",
     "iopub.status.idle": "2021-07-04T09:12:32.632763Z",
     "shell.execute_reply": "2021-07-04T09:12:32.631217Z"
    },
    "papermill": {
     "duration": 0.553412,
     "end_time": "2021-07-04T09:12:32.632902",
     "exception": false,
     "start_time": "2021-07-04T09:12:32.079490",
     "status": "completed"
    },
    "tags": []
   },
   "outputs": [
    {
     "data": {
      "text/plain": [
       "\n",
       " casual  member \n",
       "1430376 2059372 "
      ]
     },
     "metadata": {},
     "output_type": "display_data"
    }
   ],
   "source": [
    "table(complete_trips$member_casual)"
   ]
  },
  {
   "cell_type": "code",
   "execution_count": 9,
   "id": "8e2c382d",
   "metadata": {
    "execution": {
     "iopub.execute_input": "2021-07-04T09:12:32.692470Z",
     "iopub.status.busy": "2021-07-04T09:12:32.691027Z",
     "iopub.status.idle": "2021-07-04T09:12:34.510931Z",
     "shell.execute_reply": "2021-07-04T09:12:34.509244Z"
    },
    "papermill": {
     "duration": 1.851335,
     "end_time": "2021-07-04T09:12:34.511261",
     "exception": false,
     "start_time": "2021-07-04T09:12:32.659926",
     "status": "completed"
    },
    "tags": []
   },
   "outputs": [
    {
     "data": {
      "text/plain": [
       "   ride_id          rideable_type        started_at                 \n",
       " Length:3489748     Length:3489748     Min.   :2020-04-01 00:00:30  \n",
       " Class :character   Class :character   1st Qu.:2020-07-14 19:38:28  \n",
       " Mode  :character   Mode  :character   Median :2020-08-29 14:50:36  \n",
       "                                       Mean   :2020-09-10 01:21:45  \n",
       "                                       3rd Qu.:2020-10-20 18:14:13  \n",
       "                                       Max.   :2021-03-31 23:59:08  \n",
       "                                                                    \n",
       "    ended_at                   start_station_name start_station_id\n",
       " Min.   :2020-04-01 00:10:45   Length:3489748     Min.   :    2   \n",
       " 1st Qu.:2020-07-14 20:13:07   Class :character   1st Qu.:  109   \n",
       " Median :2020-08-29 15:21:13   Mode  :character   Median :  212   \n",
       " Mean   :2020-09-10 01:46:31                      Mean   : 1016   \n",
       " 3rd Qu.:2020-10-20 18:28:46                      3rd Qu.:  332   \n",
       " Max.   :2021-04-06 11:00:11                      Max.   :20258   \n",
       "                                                  NA's   :388463  \n",
       " end_station_name   end_station_id   member_casual     \n",
       " Length:3489748     Min.   :    2    Length:3489748    \n",
       " Class :character   1st Qu.:  110    Class :character  \n",
       " Mode  :character   Median :  213    Mode  :character  \n",
       "                    Mean   : 1016                      \n",
       "                    3rd Qu.:  332                      \n",
       "                    Max.   :20258                      \n",
       "                    NA's   :404359                     "
      ]
     },
     "metadata": {},
     "output_type": "display_data"
    },
    {
     "data": {
      "text/html": [
       "<table class=\"dataframe\">\n",
       "<caption>A tibble: 6 × 9</caption>\n",
       "<thead>\n",
       "\t<tr><th scope=col>ride_id</th><th scope=col>rideable_type</th><th scope=col>started_at</th><th scope=col>ended_at</th><th scope=col>start_station_name</th><th scope=col>start_station_id</th><th scope=col>end_station_name</th><th scope=col>end_station_id</th><th scope=col>member_casual</th></tr>\n",
       "\t<tr><th scope=col>&lt;chr&gt;</th><th scope=col>&lt;chr&gt;</th><th scope=col>&lt;dttm&gt;</th><th scope=col>&lt;dttm&gt;</th><th scope=col>&lt;chr&gt;</th><th scope=col>&lt;dbl&gt;</th><th scope=col>&lt;chr&gt;</th><th scope=col>&lt;dbl&gt;</th><th scope=col>&lt;chr&gt;</th></tr>\n",
       "</thead>\n",
       "<tbody>\n",
       "\t<tr><td>A847FADBBC638E45</td><td>docked_bike</td><td>2020-04-26 17:45:14</td><td>2020-04-26 18:12:03</td><td><span style=white-space:pre-wrap>Eckhart Park                       </span></td><td> 86</td><td>Lincoln Ave &amp; Diversey Pkwy</td><td>152</td><td>member</td></tr>\n",
       "\t<tr><td>5405B80E996FF60D</td><td>docked_bike</td><td>2020-04-17 17:08:54</td><td>2020-04-17 17:17:03</td><td><span style=white-space:pre-wrap>Drake Ave &amp; Fullerton Ave          </span></td><td>503</td><td><span style=white-space:pre-wrap>Kosciuszko Park            </span></td><td>499</td><td>member</td></tr>\n",
       "\t<tr><td>5DD24A79A4E006F4</td><td>docked_bike</td><td>2020-04-01 17:54:13</td><td>2020-04-01 18:08:36</td><td><span style=white-space:pre-wrap>McClurg Ct &amp; Erie St               </span></td><td>142</td><td>Indiana Ave &amp; Roosevelt Rd </td><td>255</td><td>member</td></tr>\n",
       "\t<tr><td>2A59BBDF5CDBA725</td><td>docked_bike</td><td>2020-04-07 12:50:19</td><td>2020-04-07 13:02:31</td><td><span style=white-space:pre-wrap>California Ave &amp; Division St       </span></td><td>216</td><td><span style=white-space:pre-wrap>Wood St &amp; Augusta Blvd     </span></td><td>657</td><td>member</td></tr>\n",
       "\t<tr><td>27AD306C119C6158</td><td>docked_bike</td><td>2020-04-18 10:22:59</td><td>2020-04-18 11:15:54</td><td><span style=white-space:pre-wrap>Rush St &amp; Hubbard St               </span></td><td>125</td><td>Sheridan Rd &amp; Lawrence Ave </td><td>323</td><td>casual</td></tr>\n",
       "\t<tr><td>356216E875132F61</td><td>docked_bike</td><td>2020-04-30 17:55:47</td><td>2020-04-30 18:01:11</td><td>Mies van der Rohe Way &amp; Chicago Ave</td><td>173</td><td><span style=white-space:pre-wrap>Streeter Dr &amp; Grand Ave    </span></td><td> 35</td><td>member</td></tr>\n",
       "</tbody>\n",
       "</table>\n"
      ],
      "text/latex": [
       "A tibble: 6 × 9\n",
       "\\begin{tabular}{lllllllll}\n",
       " ride\\_id & rideable\\_type & started\\_at & ended\\_at & start\\_station\\_name & start\\_station\\_id & end\\_station\\_name & end\\_station\\_id & member\\_casual\\\\\n",
       " <chr> & <chr> & <dttm> & <dttm> & <chr> & <dbl> & <chr> & <dbl> & <chr>\\\\\n",
       "\\hline\n",
       "\t A847FADBBC638E45 & docked\\_bike & 2020-04-26 17:45:14 & 2020-04-26 18:12:03 & Eckhart Park                        &  86 & Lincoln Ave \\& Diversey Pkwy & 152 & member\\\\\n",
       "\t 5405B80E996FF60D & docked\\_bike & 2020-04-17 17:08:54 & 2020-04-17 17:17:03 & Drake Ave \\& Fullerton Ave           & 503 & Kosciuszko Park             & 499 & member\\\\\n",
       "\t 5DD24A79A4E006F4 & docked\\_bike & 2020-04-01 17:54:13 & 2020-04-01 18:08:36 & McClurg Ct \\& Erie St                & 142 & Indiana Ave \\& Roosevelt Rd  & 255 & member\\\\\n",
       "\t 2A59BBDF5CDBA725 & docked\\_bike & 2020-04-07 12:50:19 & 2020-04-07 13:02:31 & California Ave \\& Division St        & 216 & Wood St \\& Augusta Blvd      & 657 & member\\\\\n",
       "\t 27AD306C119C6158 & docked\\_bike & 2020-04-18 10:22:59 & 2020-04-18 11:15:54 & Rush St \\& Hubbard St                & 125 & Sheridan Rd \\& Lawrence Ave  & 323 & casual\\\\\n",
       "\t 356216E875132F61 & docked\\_bike & 2020-04-30 17:55:47 & 2020-04-30 18:01:11 & Mies van der Rohe Way \\& Chicago Ave & 173 & Streeter Dr \\& Grand Ave     &  35 & member\\\\\n",
       "\\end{tabular}\n"
      ],
      "text/markdown": [
       "\n",
       "A tibble: 6 × 9\n",
       "\n",
       "| ride_id &lt;chr&gt; | rideable_type &lt;chr&gt; | started_at &lt;dttm&gt; | ended_at &lt;dttm&gt; | start_station_name &lt;chr&gt; | start_station_id &lt;dbl&gt; | end_station_name &lt;chr&gt; | end_station_id &lt;dbl&gt; | member_casual &lt;chr&gt; |\n",
       "|---|---|---|---|---|---|---|---|---|\n",
       "| A847FADBBC638E45 | docked_bike | 2020-04-26 17:45:14 | 2020-04-26 18:12:03 | Eckhart Park                        |  86 | Lincoln Ave &amp; Diversey Pkwy | 152 | member |\n",
       "| 5405B80E996FF60D | docked_bike | 2020-04-17 17:08:54 | 2020-04-17 17:17:03 | Drake Ave &amp; Fullerton Ave           | 503 | Kosciuszko Park             | 499 | member |\n",
       "| 5DD24A79A4E006F4 | docked_bike | 2020-04-01 17:54:13 | 2020-04-01 18:08:36 | McClurg Ct &amp; Erie St                | 142 | Indiana Ave &amp; Roosevelt Rd  | 255 | member |\n",
       "| 2A59BBDF5CDBA725 | docked_bike | 2020-04-07 12:50:19 | 2020-04-07 13:02:31 | California Ave &amp; Division St        | 216 | Wood St &amp; Augusta Blvd      | 657 | member |\n",
       "| 27AD306C119C6158 | docked_bike | 2020-04-18 10:22:59 | 2020-04-18 11:15:54 | Rush St &amp; Hubbard St                | 125 | Sheridan Rd &amp; Lawrence Ave  | 323 | casual |\n",
       "| 356216E875132F61 | docked_bike | 2020-04-30 17:55:47 | 2020-04-30 18:01:11 | Mies van der Rohe Way &amp; Chicago Ave | 173 | Streeter Dr &amp; Grand Ave     |  35 | member |\n",
       "\n"
      ],
      "text/plain": [
       "  ride_id          rideable_type started_at          ended_at           \n",
       "1 A847FADBBC638E45 docked_bike   2020-04-26 17:45:14 2020-04-26 18:12:03\n",
       "2 5405B80E996FF60D docked_bike   2020-04-17 17:08:54 2020-04-17 17:17:03\n",
       "3 5DD24A79A4E006F4 docked_bike   2020-04-01 17:54:13 2020-04-01 18:08:36\n",
       "4 2A59BBDF5CDBA725 docked_bike   2020-04-07 12:50:19 2020-04-07 13:02:31\n",
       "5 27AD306C119C6158 docked_bike   2020-04-18 10:22:59 2020-04-18 11:15:54\n",
       "6 356216E875132F61 docked_bike   2020-04-30 17:55:47 2020-04-30 18:01:11\n",
       "  start_station_name                  start_station_id\n",
       "1 Eckhart Park                         86             \n",
       "2 Drake Ave & Fullerton Ave           503             \n",
       "3 McClurg Ct & Erie St                142             \n",
       "4 California Ave & Division St        216             \n",
       "5 Rush St & Hubbard St                125             \n",
       "6 Mies van der Rohe Way & Chicago Ave 173             \n",
       "  end_station_name            end_station_id member_casual\n",
       "1 Lincoln Ave & Diversey Pkwy 152            member       \n",
       "2 Kosciuszko Park             499            member       \n",
       "3 Indiana Ave & Roosevelt Rd  255            member       \n",
       "4 Wood St & Augusta Blvd      657            member       \n",
       "5 Sheridan Rd & Lawrence Ave  323            casual       \n",
       "6 Streeter Dr & Grand Ave      35            member       "
      ]
     },
     "metadata": {},
     "output_type": "display_data"
    },
    {
     "data": {
      "text/html": [
       "3489748"
      ],
      "text/latex": [
       "3489748"
      ],
      "text/markdown": [
       "3489748"
      ],
      "text/plain": [
       "[1] 3489748"
      ]
     },
     "metadata": {},
     "output_type": "display_data"
    },
    {
     "data": {
      "text/html": [
       "<style>\n",
       ".list-inline {list-style: none; margin:0; padding: 0}\n",
       ".list-inline>li {display: inline-block}\n",
       ".list-inline>li:not(:last-child)::after {content: \"\\00b7\"; padding: 0 .5ex}\n",
       "</style>\n",
       "<ol class=list-inline><li>3489748</li><li>9</li></ol>\n"
      ],
      "text/latex": [
       "\\begin{enumerate*}\n",
       "\\item 3489748\n",
       "\\item 9\n",
       "\\end{enumerate*}\n"
      ],
      "text/markdown": [
       "1. 3489748\n",
       "2. 9\n",
       "\n",
       "\n"
      ],
      "text/plain": [
       "[1] 3489748       9"
      ]
     },
     "metadata": {},
     "output_type": "display_data"
    },
    {
     "name": "stdout",
     "output_type": "stream",
     "text": [
      "tibble [3,489,748 × 9] (S3: tbl_df/tbl/data.frame)\n",
      " $ ride_id           : chr [1:3489748] \"A847FADBBC638E45\" \"5405B80E996FF60D\" \"5DD24A79A4E006F4\" \"2A59BBDF5CDBA725\" ...\n",
      " $ rideable_type     : chr [1:3489748] \"docked_bike\" \"docked_bike\" \"docked_bike\" \"docked_bike\" ...\n",
      " $ started_at        : POSIXct[1:3489748], format: \"2020-04-26 17:45:14\" \"2020-04-17 17:08:54\" ...\n",
      " $ ended_at          : POSIXct[1:3489748], format: \"2020-04-26 18:12:03\" \"2020-04-17 17:17:03\" ...\n",
      " $ start_station_name: chr [1:3489748] \"Eckhart Park\" \"Drake Ave & Fullerton Ave\" \"McClurg Ct & Erie St\" \"California Ave & Division St\" ...\n",
      " $ start_station_id  : num [1:3489748] 86 503 142 216 125 173 35 434 627 377 ...\n",
      " $ end_station_name  : chr [1:3489748] \"Lincoln Ave & Diversey Pkwy\" \"Kosciuszko Park\" \"Indiana Ave & Roosevelt Rd\" \"Wood St & Augusta Blvd\" ...\n",
      " $ end_station_id    : num [1:3489748] 152 499 255 657 323 35 635 382 359 508 ...\n",
      " $ member_casual     : chr [1:3489748] \"member\" \"member\" \"member\" \"member\" ...\n"
     ]
    }
   ],
   "source": [
    "#Step 8: Summarizing the data frame\n",
    "summary(complete_trips) #Gives the statistical summary of the data(i.e., mean. median, min, etc.)\n",
    "head(complete_trips)  #displays the first 6 rows of data frame.\n",
    "nrow(complete_trips)  #shows the number of rows present in the dataframe\n",
    "dim(complete_trips)  #identifies dimensions of the data frame (rows x columns)\n",
    "str(complete_trips)  #displays the list of columns and data types."
   ]
  },
  {
   "cell_type": "markdown",
   "id": "d5206cb9",
   "metadata": {
    "papermill": {
     "duration": 0.032468,
     "end_time": "2021-07-04T09:12:34.573717",
     "exception": false,
     "start_time": "2021-07-04T09:12:34.541249",
     "status": "completed"
    },
    "tags": []
   },
   "source": [
    "To gain more insights from the dataset, we can seperate dates(started_at, ended_at) into day, month, year and day of the week."
   ]
  },
  {
   "cell_type": "code",
   "execution_count": 10,
   "id": "59cd8ea3",
   "metadata": {
    "execution": {
     "iopub.execute_input": "2021-07-04T09:12:34.653033Z",
     "iopub.status.busy": "2021-07-04T09:12:34.651117Z",
     "iopub.status.idle": "2021-07-04T09:12:40.661345Z",
     "shell.execute_reply": "2021-07-04T09:12:40.659800Z"
    },
    "papermill": {
     "duration": 6.049482,
     "end_time": "2021-07-04T09:12:40.661544",
     "exception": false,
     "start_time": "2021-07-04T09:12:34.612062",
     "status": "completed"
    },
    "tags": []
   },
   "outputs": [],
   "source": [
    "complete_trips$date <- as.Date(complete_trips$started_at) #converts to default format is yyyy-mm-dd\n",
    "complete_trips$month <- format(as.Date(complete_trips$date), \"%m\")\n",
    "complete_trips$day <- format(as.Date(complete_trips$date), \"%d\")\n",
    "complete_trips$year <- format(as.Date(complete_trips$date), \"%Y\")\n",
    "complete_trips$day_of_week <- format(as.Date(complete_trips$date), \"%A\")"
   ]
  },
  {
   "cell_type": "code",
   "execution_count": 11,
   "id": "90ca4cd0",
   "metadata": {
    "execution": {
     "iopub.execute_input": "2021-07-04T09:12:40.726298Z",
     "iopub.status.busy": "2021-07-04T09:12:40.724495Z",
     "iopub.status.idle": "2021-07-04T09:12:40.999629Z",
     "shell.execute_reply": "2021-07-04T09:12:40.998039Z"
    },
    "papermill": {
     "duration": 0.308521,
     "end_time": "2021-07-04T09:12:40.999772",
     "exception": false,
     "start_time": "2021-07-04T09:12:40.691251",
     "status": "completed"
    },
    "tags": []
   },
   "outputs": [],
   "source": [
    "# Step 9: Calculating the trip duration for each ride\n",
    "complete_trips$ride_length <- difftime(complete_trips$ended_at,complete_trips$started_at)"
   ]
  },
  {
   "cell_type": "code",
   "execution_count": 12,
   "id": "e16d19fb",
   "metadata": {
    "execution": {
     "iopub.execute_input": "2021-07-04T09:12:41.063741Z",
     "iopub.status.busy": "2021-07-04T09:12:41.061961Z",
     "iopub.status.idle": "2021-07-04T09:12:43.553285Z",
     "shell.execute_reply": "2021-07-04T09:12:43.551755Z"
    },
    "papermill": {
     "duration": 2.524745,
     "end_time": "2021-07-04T09:12:43.553623",
     "exception": false,
     "start_time": "2021-07-04T09:12:41.028878",
     "status": "completed"
    },
    "tags": []
   },
   "outputs": [],
   "source": [
    "# Step 10: Removing incomplete data\n",
    "complete_trips_no_na <- drop_na(complete_trips)\n",
    "#Creating a new version of data frame, removing the neagtive ride length and quality check rows\n",
    "complete_trips_v2 <- complete_trips_no_na[!(complete_trips_no_na$start_station_name == \"HQ QR\" | complete_trips_no_na$ride_length<0),]"
   ]
  },
  {
   "cell_type": "markdown",
   "id": "ca291bd9",
   "metadata": {
    "papermill": {
     "duration": 0.029335,
     "end_time": "2021-07-04T09:12:43.612810",
     "exception": false,
     "start_time": "2021-07-04T09:12:43.583475",
     "status": "completed"
    },
    "tags": []
   },
   "source": [
    "# Analyze\n",
    "we've completed the cleaning, filtering and aggregating process of the dataset and now, we can proceed with math part to find the insights and idenity the trends on the usage of cyclistics bikes by the customers."
   ]
  },
  {
   "cell_type": "code",
   "execution_count": 13,
   "id": "e33fcaf8",
   "metadata": {
    "execution": {
     "iopub.execute_input": "2021-07-04T09:12:43.678063Z",
     "iopub.status.busy": "2021-07-04T09:12:43.676233Z",
     "iopub.status.idle": "2021-07-04T09:12:57.673698Z",
     "shell.execute_reply": "2021-07-04T09:12:57.671735Z"
    },
    "papermill": {
     "duration": 14.031387,
     "end_time": "2021-07-04T09:12:57.673930",
     "exception": false,
     "start_time": "2021-07-04T09:12:43.642543",
     "status": "completed"
    },
    "tags": []
   },
   "outputs": [
    {
     "data": {
      "text/plain": [
       "  Length    Class     Mode \n",
       " 2934548 difftime  numeric "
      ]
     },
     "metadata": {},
     "output_type": "display_data"
    },
    {
     "data": {
      "text/html": [
       "<table class=\"dataframe\">\n",
       "<caption>A data.frame: 2 × 2</caption>\n",
       "<thead>\n",
       "\t<tr><th scope=col>complete_trips_v2$member_casual</th><th scope=col>complete_trips_v2$ride_length</th></tr>\n",
       "\t<tr><th scope=col>&lt;chr&gt;</th><th scope=col>&lt;drtn&gt;</th></tr>\n",
       "</thead>\n",
       "<tbody>\n",
       "\t<tr><td>casual</td><td>3341033 secs</td></tr>\n",
       "\t<tr><td>member</td><td>3523202 secs</td></tr>\n",
       "</tbody>\n",
       "</table>\n"
      ],
      "text/latex": [
       "A data.frame: 2 × 2\n",
       "\\begin{tabular}{ll}\n",
       " complete\\_trips\\_v2\\$member\\_casual & complete\\_trips\\_v2\\$ride\\_length\\\\\n",
       " <chr> & <drtn>\\\\\n",
       "\\hline\n",
       "\t casual & 3341033 secs\\\\\n",
       "\t member & 3523202 secs\\\\\n",
       "\\end{tabular}\n"
      ],
      "text/markdown": [
       "\n",
       "A data.frame: 2 × 2\n",
       "\n",
       "| complete_trips_v2$member_casual &lt;chr&gt; | complete_trips_v2$ride_length &lt;drtn&gt; |\n",
       "|---|---|\n",
       "| casual | 3341033 secs |\n",
       "| member | 3523202 secs |\n",
       "\n"
      ],
      "text/plain": [
       "  complete_trips_v2$member_casual complete_trips_v2$ride_length\n",
       "1 casual                          3341033 secs                 \n",
       "2 member                          3523202 secs                 "
      ]
     },
     "metadata": {},
     "output_type": "display_data"
    },
    {
     "data": {
      "text/html": [
       "<table class=\"dataframe\">\n",
       "<caption>A data.frame: 2 × 2</caption>\n",
       "<thead>\n",
       "\t<tr><th scope=col>complete_trips_v2$member_casual</th><th scope=col>complete_trips_v2$ride_length</th></tr>\n",
       "\t<tr><th scope=col>&lt;chr&gt;</th><th scope=col>&lt;drtn&gt;</th></tr>\n",
       "</thead>\n",
       "<tbody>\n",
       "\t<tr><td>casual</td><td>0 secs</td></tr>\n",
       "\t<tr><td>member</td><td>0 secs</td></tr>\n",
       "</tbody>\n",
       "</table>\n"
      ],
      "text/latex": [
       "A data.frame: 2 × 2\n",
       "\\begin{tabular}{ll}\n",
       " complete\\_trips\\_v2\\$member\\_casual & complete\\_trips\\_v2\\$ride\\_length\\\\\n",
       " <chr> & <drtn>\\\\\n",
       "\\hline\n",
       "\t casual & 0 secs\\\\\n",
       "\t member & 0 secs\\\\\n",
       "\\end{tabular}\n"
      ],
      "text/markdown": [
       "\n",
       "A data.frame: 2 × 2\n",
       "\n",
       "| complete_trips_v2$member_casual &lt;chr&gt; | complete_trips_v2$ride_length &lt;drtn&gt; |\n",
       "|---|---|\n",
       "| casual | 0 secs |\n",
       "| member | 0 secs |\n",
       "\n"
      ],
      "text/plain": [
       "  complete_trips_v2$member_casual complete_trips_v2$ride_length\n",
       "1 casual                          0 secs                       \n",
       "2 member                          0 secs                       "
      ]
     },
     "metadata": {},
     "output_type": "display_data"
    },
    {
     "data": {
      "text/html": [
       "<table class=\"dataframe\">\n",
       "<caption>A data.frame: 2 × 2</caption>\n",
       "<thead>\n",
       "\t<tr><th scope=col>complete_trips_v2$member_casual</th><th scope=col>complete_trips_v2$ride_length</th></tr>\n",
       "\t<tr><th scope=col>&lt;chr&gt;</th><th scope=col>&lt;drtn&gt;</th></tr>\n",
       "</thead>\n",
       "<tbody>\n",
       "\t<tr><td>casual</td><td>2784.2137 secs</td></tr>\n",
       "\t<tr><td>member</td><td> 984.2583 secs</td></tr>\n",
       "</tbody>\n",
       "</table>\n"
      ],
      "text/latex": [
       "A data.frame: 2 × 2\n",
       "\\begin{tabular}{ll}\n",
       " complete\\_trips\\_v2\\$member\\_casual & complete\\_trips\\_v2\\$ride\\_length\\\\\n",
       " <chr> & <drtn>\\\\\n",
       "\\hline\n",
       "\t casual & 2784.2137 secs\\\\\n",
       "\t member &  984.2583 secs\\\\\n",
       "\\end{tabular}\n"
      ],
      "text/markdown": [
       "\n",
       "A data.frame: 2 × 2\n",
       "\n",
       "| complete_trips_v2$member_casual &lt;chr&gt; | complete_trips_v2$ride_length &lt;drtn&gt; |\n",
       "|---|---|\n",
       "| casual | 2784.2137 secs |\n",
       "| member |  984.2583 secs |\n",
       "\n"
      ],
      "text/plain": [
       "  complete_trips_v2$member_casual complete_trips_v2$ride_length\n",
       "1 casual                          2784.2137 secs               \n",
       "2 member                           984.2583 secs               "
      ]
     },
     "metadata": {},
     "output_type": "display_data"
    },
    {
     "data": {
      "text/html": [
       "<table class=\"dataframe\">\n",
       "<caption>A data.frame: 2 × 2</caption>\n",
       "<thead>\n",
       "\t<tr><th scope=col>complete_trips_v2$member_casual</th><th scope=col>complete_trips_v2$ride_length</th></tr>\n",
       "\t<tr><th scope=col>&lt;chr&gt;</th><th scope=col>&lt;drtn&gt;</th></tr>\n",
       "</thead>\n",
       "<tbody>\n",
       "\t<tr><td>casual</td><td>1327 secs</td></tr>\n",
       "\t<tr><td>member</td><td> 721 secs</td></tr>\n",
       "</tbody>\n",
       "</table>\n"
      ],
      "text/latex": [
       "A data.frame: 2 × 2\n",
       "\\begin{tabular}{ll}\n",
       " complete\\_trips\\_v2\\$member\\_casual & complete\\_trips\\_v2\\$ride\\_length\\\\\n",
       " <chr> & <drtn>\\\\\n",
       "\\hline\n",
       "\t casual & 1327 secs\\\\\n",
       "\t member &  721 secs\\\\\n",
       "\\end{tabular}\n"
      ],
      "text/markdown": [
       "\n",
       "A data.frame: 2 × 2\n",
       "\n",
       "| complete_trips_v2$member_casual &lt;chr&gt; | complete_trips_v2$ride_length &lt;drtn&gt; |\n",
       "|---|---|\n",
       "| casual | 1327 secs |\n",
       "| member |  721 secs |\n",
       "\n"
      ],
      "text/plain": [
       "  complete_trips_v2$member_casual complete_trips_v2$ride_length\n",
       "1 casual                          1327 secs                    \n",
       "2 member                           721 secs                    "
      ]
     },
     "metadata": {},
     "output_type": "display_data"
    },
    {
     "data": {
      "text/html": [
       "<table class=\"dataframe\">\n",
       "<caption>A data.frame: 14 × 3</caption>\n",
       "<thead>\n",
       "\t<tr><th scope=col>complete_trips_v2$member_casual</th><th scope=col>complete_trips_v2$day_of_week</th><th scope=col>complete_trips_v2$ride_length</th></tr>\n",
       "\t<tr><th scope=col>&lt;chr&gt;</th><th scope=col>&lt;ord&gt;</th><th scope=col>&lt;drtn&gt;</th></tr>\n",
       "</thead>\n",
       "<tbody>\n",
       "\t<tr><td>casual</td><td>Sunday   </td><td>3127.5935 secs</td></tr>\n",
       "\t<tr><td>member</td><td>Sunday   </td><td>1117.8907 secs</td></tr>\n",
       "\t<tr><td>casual</td><td>Monday   </td><td>2804.4931 secs</td></tr>\n",
       "\t<tr><td>member</td><td>Monday   </td><td> 930.1421 secs</td></tr>\n",
       "\t<tr><td>casual</td><td>Tuesday  </td><td>2514.2186 secs</td></tr>\n",
       "\t<tr><td>member</td><td>Tuesday  </td><td> 926.2565 secs</td></tr>\n",
       "\t<tr><td>casual</td><td>Wednesday</td><td>2523.1104 secs</td></tr>\n",
       "\t<tr><td>member</td><td>Wednesday</td><td> 929.5911 secs</td></tr>\n",
       "\t<tr><td>casual</td><td>Thursday </td><td>2680.6112 secs</td></tr>\n",
       "\t<tr><td>member</td><td>Thursday </td><td> 928.8587 secs</td></tr>\n",
       "\t<tr><td>casual</td><td>Friday   </td><td>2647.2625 secs</td></tr>\n",
       "\t<tr><td>member</td><td>Friday   </td><td> 961.6153 secs</td></tr>\n",
       "\t<tr><td>casual</td><td>Saturday </td><td>2879.0193 secs</td></tr>\n",
       "\t<tr><td>member</td><td>Saturday </td><td>1090.2000 secs</td></tr>\n",
       "</tbody>\n",
       "</table>\n"
      ],
      "text/latex": [
       "A data.frame: 14 × 3\n",
       "\\begin{tabular}{lll}\n",
       " complete\\_trips\\_v2\\$member\\_casual & complete\\_trips\\_v2\\$day\\_of\\_week & complete\\_trips\\_v2\\$ride\\_length\\\\\n",
       " <chr> & <ord> & <drtn>\\\\\n",
       "\\hline\n",
       "\t casual & Sunday    & 3127.5935 secs\\\\\n",
       "\t member & Sunday    & 1117.8907 secs\\\\\n",
       "\t casual & Monday    & 2804.4931 secs\\\\\n",
       "\t member & Monday    &  930.1421 secs\\\\\n",
       "\t casual & Tuesday   & 2514.2186 secs\\\\\n",
       "\t member & Tuesday   &  926.2565 secs\\\\\n",
       "\t casual & Wednesday & 2523.1104 secs\\\\\n",
       "\t member & Wednesday &  929.5911 secs\\\\\n",
       "\t casual & Thursday  & 2680.6112 secs\\\\\n",
       "\t member & Thursday  &  928.8587 secs\\\\\n",
       "\t casual & Friday    & 2647.2625 secs\\\\\n",
       "\t member & Friday    &  961.6153 secs\\\\\n",
       "\t casual & Saturday  & 2879.0193 secs\\\\\n",
       "\t member & Saturday  & 1090.2000 secs\\\\\n",
       "\\end{tabular}\n"
      ],
      "text/markdown": [
       "\n",
       "A data.frame: 14 × 3\n",
       "\n",
       "| complete_trips_v2$member_casual &lt;chr&gt; | complete_trips_v2$day_of_week &lt;ord&gt; | complete_trips_v2$ride_length &lt;drtn&gt; |\n",
       "|---|---|---|\n",
       "| casual | Sunday    | 3127.5935 secs |\n",
       "| member | Sunday    | 1117.8907 secs |\n",
       "| casual | Monday    | 2804.4931 secs |\n",
       "| member | Monday    |  930.1421 secs |\n",
       "| casual | Tuesday   | 2514.2186 secs |\n",
       "| member | Tuesday   |  926.2565 secs |\n",
       "| casual | Wednesday | 2523.1104 secs |\n",
       "| member | Wednesday |  929.5911 secs |\n",
       "| casual | Thursday  | 2680.6112 secs |\n",
       "| member | Thursday  |  928.8587 secs |\n",
       "| casual | Friday    | 2647.2625 secs |\n",
       "| member | Friday    |  961.6153 secs |\n",
       "| casual | Saturday  | 2879.0193 secs |\n",
       "| member | Saturday  | 1090.2000 secs |\n",
       "\n"
      ],
      "text/plain": [
       "   complete_trips_v2$member_casual complete_trips_v2$day_of_week\n",
       "1  casual                          Sunday                       \n",
       "2  member                          Sunday                       \n",
       "3  casual                          Monday                       \n",
       "4  member                          Monday                       \n",
       "5  casual                          Tuesday                      \n",
       "6  member                          Tuesday                      \n",
       "7  casual                          Wednesday                    \n",
       "8  member                          Wednesday                    \n",
       "9  casual                          Thursday                     \n",
       "10 member                          Thursday                     \n",
       "11 casual                          Friday                       \n",
       "12 member                          Friday                       \n",
       "13 casual                          Saturday                     \n",
       "14 member                          Saturday                     \n",
       "   complete_trips_v2$ride_length\n",
       "1  3127.5935 secs               \n",
       "2  1117.8907 secs               \n",
       "3  2804.4931 secs               \n",
       "4   930.1421 secs               \n",
       "5  2514.2186 secs               \n",
       "6   926.2565 secs               \n",
       "7  2523.1104 secs               \n",
       "8   929.5911 secs               \n",
       "9  2680.6112 secs               \n",
       "10  928.8587 secs               \n",
       "11 2647.2625 secs               \n",
       "12  961.6153 secs               \n",
       "13 2879.0193 secs               \n",
       "14 1090.2000 secs               "
      ]
     },
     "metadata": {},
     "output_type": "display_data"
    },
    {
     "name": "stderr",
     "output_type": "stream",
     "text": [
      "`summarise()` has grouped output by 'member_casual'. You can override using the `.groups` argument.\n",
      "\n"
     ]
    },
    {
     "data": {
      "text/html": [
       "<table class=\"dataframe\">\n",
       "<caption>A grouped_df: 14 × 4</caption>\n",
       "<thead>\n",
       "\t<tr><th scope=col>member_casual</th><th scope=col>weekday</th><th scope=col>number_of_rides</th><th scope=col>average_duration</th></tr>\n",
       "\t<tr><th scope=col>&lt;chr&gt;</th><th scope=col>&lt;ord&gt;</th><th scope=col>&lt;int&gt;</th><th scope=col>&lt;drtn&gt;</th></tr>\n",
       "</thead>\n",
       "<tbody>\n",
       "\t<tr><td>casual</td><td>Sun</td><td>232363</td><td>3127.5935 secs</td></tr>\n",
       "\t<tr><td>casual</td><td>Mon</td><td>130415</td><td>2804.4931 secs</td></tr>\n",
       "\t<tr><td>casual</td><td>Tue</td><td>125154</td><td>2514.2186 secs</td></tr>\n",
       "\t<tr><td>casual</td><td>Wed</td><td>137715</td><td>2523.1104 secs</td></tr>\n",
       "\t<tr><td>casual</td><td>Thu</td><td>147480</td><td>2680.6112 secs</td></tr>\n",
       "\t<tr><td>casual</td><td>Fri</td><td>186487</td><td>2647.2625 secs</td></tr>\n",
       "\t<tr><td>casual</td><td>Sat</td><td>296757</td><td>2879.0193 secs</td></tr>\n",
       "\t<tr><td>member</td><td>Sun</td><td>220362</td><td>1117.8907 secs</td></tr>\n",
       "\t<tr><td>member</td><td>Mon</td><td>215035</td><td> 930.1421 secs</td></tr>\n",
       "\t<tr><td>member</td><td>Tue</td><td>227331</td><td> 926.2565 secs</td></tr>\n",
       "\t<tr><td>member</td><td>Wed</td><td>246710</td><td> 929.5911 secs</td></tr>\n",
       "\t<tr><td>member</td><td>Thu</td><td>247479</td><td> 928.8587 secs</td></tr>\n",
       "\t<tr><td>member</td><td>Fri</td><td>253926</td><td> 961.6153 secs</td></tr>\n",
       "\t<tr><td>member</td><td>Sat</td><td>267334</td><td>1090.2000 secs</td></tr>\n",
       "</tbody>\n",
       "</table>\n"
      ],
      "text/latex": [
       "A grouped\\_df: 14 × 4\n",
       "\\begin{tabular}{llll}\n",
       " member\\_casual & weekday & number\\_of\\_rides & average\\_duration\\\\\n",
       " <chr> & <ord> & <int> & <drtn>\\\\\n",
       "\\hline\n",
       "\t casual & Sun & 232363 & 3127.5935 secs\\\\\n",
       "\t casual & Mon & 130415 & 2804.4931 secs\\\\\n",
       "\t casual & Tue & 125154 & 2514.2186 secs\\\\\n",
       "\t casual & Wed & 137715 & 2523.1104 secs\\\\\n",
       "\t casual & Thu & 147480 & 2680.6112 secs\\\\\n",
       "\t casual & Fri & 186487 & 2647.2625 secs\\\\\n",
       "\t casual & Sat & 296757 & 2879.0193 secs\\\\\n",
       "\t member & Sun & 220362 & 1117.8907 secs\\\\\n",
       "\t member & Mon & 215035 &  930.1421 secs\\\\\n",
       "\t member & Tue & 227331 &  926.2565 secs\\\\\n",
       "\t member & Wed & 246710 &  929.5911 secs\\\\\n",
       "\t member & Thu & 247479 &  928.8587 secs\\\\\n",
       "\t member & Fri & 253926 &  961.6153 secs\\\\\n",
       "\t member & Sat & 267334 & 1090.2000 secs\\\\\n",
       "\\end{tabular}\n"
      ],
      "text/markdown": [
       "\n",
       "A grouped_df: 14 × 4\n",
       "\n",
       "| member_casual &lt;chr&gt; | weekday &lt;ord&gt; | number_of_rides &lt;int&gt; | average_duration &lt;drtn&gt; |\n",
       "|---|---|---|---|\n",
       "| casual | Sun | 232363 | 3127.5935 secs |\n",
       "| casual | Mon | 130415 | 2804.4931 secs |\n",
       "| casual | Tue | 125154 | 2514.2186 secs |\n",
       "| casual | Wed | 137715 | 2523.1104 secs |\n",
       "| casual | Thu | 147480 | 2680.6112 secs |\n",
       "| casual | Fri | 186487 | 2647.2625 secs |\n",
       "| casual | Sat | 296757 | 2879.0193 secs |\n",
       "| member | Sun | 220362 | 1117.8907 secs |\n",
       "| member | Mon | 215035 |  930.1421 secs |\n",
       "| member | Tue | 227331 |  926.2565 secs |\n",
       "| member | Wed | 246710 |  929.5911 secs |\n",
       "| member | Thu | 247479 |  928.8587 secs |\n",
       "| member | Fri | 253926 |  961.6153 secs |\n",
       "| member | Sat | 267334 | 1090.2000 secs |\n",
       "\n"
      ],
      "text/plain": [
       "   member_casual weekday number_of_rides average_duration\n",
       "1  casual        Sun     232363          3127.5935 secs  \n",
       "2  casual        Mon     130415          2804.4931 secs  \n",
       "3  casual        Tue     125154          2514.2186 secs  \n",
       "4  casual        Wed     137715          2523.1104 secs  \n",
       "5  casual        Thu     147480          2680.6112 secs  \n",
       "6  casual        Fri     186487          2647.2625 secs  \n",
       "7  casual        Sat     296757          2879.0193 secs  \n",
       "8  member        Sun     220362          1117.8907 secs  \n",
       "9  member        Mon     215035           930.1421 secs  \n",
       "10 member        Tue     227331           926.2565 secs  \n",
       "11 member        Wed     246710           929.5911 secs  \n",
       "12 member        Thu     247479           928.8587 secs  \n",
       "13 member        Fri     253926           961.6153 secs  \n",
       "14 member        Sat     267334          1090.2000 secs  "
      ]
     },
     "metadata": {},
     "output_type": "display_data"
    }
   ],
   "source": [
    "# Step 11: Summary of the trip durations\n",
    "summary(complete_trips_v2$ride_length)\n",
    "\n",
    "#Step 12: comparing ride_length of casual riders and Members\n",
    "aggregate(complete_trips_v2$ride_length ~ complete_trips_v2$member_casual, FUN = max)\n",
    "aggregate(complete_trips_v2$ride_length ~ complete_trips_v2$member_casual, FUN = min)\n",
    "aggregate(complete_trips_v2$ride_length ~ complete_trips_v2$member_casual, FUN = mean)\n",
    "aggregate(complete_trips_v2$ride_length ~ complete_trips_v2$member_casual, FUN = median)\n",
    "\n",
    "#Step 13: See the average ride time by each day for members vs casual users\n",
    "\n",
    "complete_trips_v2$day_of_week <- ordered(complete_trips_v2$day_of_week, levels=c(\"Sunday\", \"Monday\", \"Tuesday\", \"Wednesday\", \"Thursday\", \"Friday\", \"Saturday\"))\n",
    "aggregate(complete_trips_v2$ride_length ~ complete_trips_v2$member_casual + complete_trips_v2$day_of_week, FUN = mean)\n",
    "\n",
    "#Step 14: Analyzing Ridership Data by type and weekday\n",
    "complete_trips_v2 %>%\n",
    "  mutate(weekday = wday(started_at, label = TRUE)) %>%  #wday() creates a weekday field\n",
    "  group_by(member_casual, weekday) %>%                  #groups by rider type and weekday\n",
    "  summarise(number_of_rides = n(),average_duration = mean(ride_length)) %>%  #calculates the number of rides and average duration\n",
    "  arrange(member_casual, weekday)                       "
   ]
  },
  {
   "cell_type": "markdown",
   "id": "4e83b41b",
   "metadata": {
    "papermill": {
     "duration": 0.033062,
     "end_time": "2021-07-04T09:12:57.740622",
     "exception": false,
     "start_time": "2021-07-04T09:12:57.707560",
     "status": "completed"
    },
    "tags": []
   },
   "source": [
    "# **Visualization**"
   ]
  },
  {
   "cell_type": "code",
   "execution_count": 14,
   "id": "6a1e442b",
   "metadata": {
    "execution": {
     "iopub.execute_input": "2021-07-04T09:12:57.811986Z",
     "iopub.status.busy": "2021-07-04T09:12:57.810156Z",
     "iopub.status.idle": "2021-07-04T09:13:01.190010Z",
     "shell.execute_reply": "2021-07-04T09:13:01.189058Z"
    },
    "papermill": {
     "duration": 3.416811,
     "end_time": "2021-07-04T09:13:01.190132",
     "exception": false,
     "start_time": "2021-07-04T09:12:57.773321",
     "status": "completed"
    },
    "tags": []
   },
   "outputs": [
    {
     "name": "stderr",
     "output_type": "stream",
     "text": [
      "`summarise()` has grouped output by 'member_casual'. You can override using the `.groups` argument.\n",
      "\n"
     ]
    },
    {
     "data": {
      "image/png": "[encoded data removed]"
     },
     "metadata": {
      "image/png": {
       "height": 420,
       "width": 420
      }
     },
     "output_type": "display_data"
    }
   ],
   "source": [
    "# Visualizing the number of rides in each weekday by rider type\n",
    "complete_trips_v2 %>% \n",
    "  mutate(weekday = wday(started_at, label = TRUE)) %>% \n",
    "  group_by(member_casual, weekday) %>% \n",
    "  summarise(number_of_rides = n(), average_duration = mean(ride_length)) %>% \n",
    "  arrange(member_casual, weekday)  %>% \n",
    "  ggplot(aes(x = weekday, y = number_of_rides, fill = member_casual)) +\n",
    "  geom_col(position = \"dodge\") +\n",
    "  labs(title = \"Number of rides by Member type during eachday of the week\")"
   ]
  },
  {
   "cell_type": "code",
   "execution_count": 15,
   "id": "055dbaf7",
   "metadata": {
    "execution": {
     "iopub.execute_input": "2021-07-04T09:13:01.264080Z",
     "iopub.status.busy": "2021-07-04T09:13:01.262640Z",
     "iopub.status.idle": "2021-07-04T09:13:04.527945Z",
     "shell.execute_reply": "2021-07-04T09:13:04.526843Z"
    },
    "papermill": {
     "duration": 3.302893,
     "end_time": "2021-07-04T09:13:04.528142",
     "exception": false,
     "start_time": "2021-07-04T09:13:01.225249",
     "status": "completed"
    },
    "tags": []
   },
   "outputs": [
    {
     "name": "stderr",
     "output_type": "stream",
     "text": [
      "`summarise()` has grouped output by 'member_casual'. You can override using the `.groups` argument.\n",
      "\n",
      "Don't know how to automatically pick scale for object of type difftime. Defaulting to continuous.\n",
      "\n"
     ]
    },
    {
     "data": {
      "image/png": "[encoded data removed]"
     },
     "metadata": {
      "image/png": {
       "height": 420,
       "width": 420
      }
     },
     "output_type": "display_data"
    }
   ],
   "source": [
    "#Visualizing the average duration of rides in each weekday by rider type.\n",
    "complete_trips_v2 %>% \n",
    "  mutate(weekday = wday(started_at, label = TRUE)) %>% \n",
    "  group_by(member_casual, weekday) %>% \n",
    "  summarise(number_of_rides = n(), average_duration = mean(ride_length)) %>% \n",
    "  arrange(member_casual, weekday)  %>% \n",
    "  ggplot(aes(x = weekday, y = average_duration, fill = member_casual)) +\n",
    "  geom_col(position = \"dodge\") +\n",
    "  labs(title = \"Average duration of rides in each weekday by member type\")"
   ]
  },
  {
   "cell_type": "code",
   "execution_count": 16,
   "id": "2b17a63d",
   "metadata": {
    "execution": {
     "iopub.execute_input": "2021-07-04T09:13:04.605123Z",
     "iopub.status.busy": "2021-07-04T09:13:04.603766Z",
     "iopub.status.idle": "2021-07-04T09:13:05.170146Z",
     "shell.execute_reply": "2021-07-04T09:13:05.169228Z"
    },
    "papermill": {
     "duration": 0.605965,
     "end_time": "2021-07-04T09:13:05.170440",
     "exception": false,
     "start_time": "2021-07-04T09:13:04.564475",
     "status": "completed"
    },
    "tags": []
   },
   "outputs": [
    {
     "name": "stderr",
     "output_type": "stream",
     "text": [
      "`summarise()` has grouped output by 'member_casual'. You can override using the `.groups` argument.\n",
      "\n"
     ]
    },
    {
     "data": {
      "image/png": "[encoded data removed]"
     },
     "metadata": {
      "image/png": {
       "height": 420,
       "width": 420
      }
     },
     "output_type": "display_data"
    }
   ],
   "source": [
    "#Visualizing for number of rides in each ride type by member types.\n",
    "complete_trips_v2 %>% \n",
    "  group_by(member_casual, rideable_type) %>% \n",
    "  summarise(number_of_rides = n()) %>% \n",
    "  arrange(member_casual)  %>% \n",
    "  ggplot(aes(x = rideable_type, y=number_of_rides, fill = member_casual)) +\n",
    "  geom_col(position = \"dodge\") +\n",
    "  labs(title = \"Number of rides in each ride type by member types\")"
   ]
  },
  {
   "cell_type": "markdown",
   "id": "0934322c",
   "metadata": {
    "papermill": {
     "duration": 0.036859,
     "end_time": "2021-07-04T09:13:05.244209",
     "exception": false,
     "start_time": "2021-07-04T09:13:05.207350",
     "status": "completed"
    },
    "tags": []
   },
   "source": [
    "# Key Findings\n",
    "* There is noticeable high number of rides from casual riders during the weekend period.\n",
    "* The average ride duration is higher for casual riders for any day of the week.\n",
    "* Both type of riders (casual and members) prefer the docked bike more then the electric or classic bike.\n"
   ]
  }
 ],
 "metadata": {
  "kernelspec": {
   "display_name": "R",
   "language": "R",
   "name": "ir"
  },
  "language_info": {
   "codemirror_mode": "r",
   "file_extension": ".r",
   "mimetype": "text/x-r-source",
   "name": "R",
   "pygments_lexer": "r",
   "version": "4.0.5"
  },
  "papermill": {
   "default_parameters": {},
   "duration": 71.466905,
   "end_time": "2021-07-04T09:13:05.491353",
   "environment_variables": {},
   "exception": null,
   "input_path": "__notebook__.ipynb",
   "output_path": "__notebook__.ipynb",
   "parameters": {},
   "start_time": "2021-07-04T09:11:54.024448",
   "version": "2.3.3"
  }
 },
 "nbformat": 4,
 "nbformat_minor": 5
}
